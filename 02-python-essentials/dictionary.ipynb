{
 "cells": [
  {
   "cell_type": "code",
   "execution_count": 1,
   "metadata": {
    "collapsed": true
   },
   "outputs": [
    {
     "data": {
      "text/plain": [
       "{'mutable': ['changeable', 'variable', 'varying'],\n 'imutable': ['fixed', 'set', 'rigid']}"
      ]
     },
     "execution_count": 1,
     "metadata": {},
     "output_type": "execute_result"
    }
   ],
   "source": [
    "synomyms={}\n",
    "synomyms['mutable']=[\n",
    "    'changeable','variable','varying'\n",
    "]\n",
    "synomyms['imutable']=[\n",
    "    'fixed','set','rigid'\n",
    "]\n",
    "synomyms"
   ]
  },
  {
   "cell_type": "code",
   "execution_count": 2,
   "metadata": {},
   "outputs": [],
   "source": [
    "# 定义四个字典\n",
    "e1={'mag':0.05,'width':20}\n",
    "e2={'mag':0.04,'width':25}\n",
    "e3={'mag':0.05,'width':80}\n",
    "e4={'mag':0.03,'width':30}\n",
    "\n",
    "# 以字典作为值传入新的字典\n",
    "events={500:e1,760:e2,3001:e3,4180:e4}"
   ]
  },
  {
   "cell_type": "code",
   "execution_count": 3,
   "metadata": {},
   "outputs": [
    {
     "data": {
      "text/plain": [
       "{500: {'mag': 0.05, 'width': 20},\n 760: {'mag': 0.04, 'width': 25},\n 3001: {'mag': 0.05, 'width': 80},\n 4180: {'mag': 0.03, 'width': 30}}"
      ]
     },
     "execution_count": 3,
     "metadata": {},
     "output_type": "execute_result"
    }
   ],
   "source": [
    "events"
   ]
  },
  {
   "cell_type": "code",
   "execution_count": null,
   "metadata": {},
   "outputs": [],
   "source": []
  }
 ],
 "metadata": {
  "kernelspec": {
   "display_name": "Python 2",
   "language": "python",
   "name": "python2"
  },
  "language_info": {
   "codemirror_mode": {
    "name": "ipython",
    "version": 2
   },
   "file_extension": ".py",
   "mimetype": "text/x-python",
   "name": "python",
   "nbconvert_exporter": "python",
   "pygments_lexer": "ipython2",
   "version": "2.7.6"
  }
 },
 "nbformat": 4,
 "nbformat_minor": 0
}
