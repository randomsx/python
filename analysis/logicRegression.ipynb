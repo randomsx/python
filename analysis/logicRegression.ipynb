{
 "cells": [
  {
   "cell_type": "markdown",
   "metadata": {
    "collapsed": true
   },
   "source": [
    "# 梯度下降求解逻辑回归"
   ]
  },
  {
   "cell_type": "markdown",
   "metadata": {},
   "source": [
    "建立一个逻辑回归模型预测一个学生是否被大学录取. 假设你是管理员,需根据两次考试的结果决定\n",
    "每个申请人的录取机会.有以前申请人的历史数据,你可以用它作为逻辑回归的训练集.对于每一个培训\n",
    "例子,由两个考试的申请人的分数和录取决定.为了做到这一点,我们将建立一个分类模型,根据考试成绩估计入学概率.\n",
    "\n",
    "即根据历史录取数据 预测之后能否被录取 分类问题"
   ]
  },
  {
   "cell_type": "markdown",
   "metadata": {},
   "source": [
    "1. 读数据，看数据格式\n",
    "pd.read_csv(path，header=None，names=['exam1','exam2','admitted']) 第一个参数是路径 path 可以决定可以相对  header=none 去掉原来的列名  names 指定新的列名\n",
    "head 查看前几行 即书记分布\n",
    "2. df.shape  查看数据的维度\n",
    "\n",
    "3.可以使用散点图对数据的分布情况做一个展示\n"
   ]
  },
  {
   "cell_type": "code",
   "execution_count": 8,
   "metadata": {},
   "outputs": [],
   "source": [
    "import numpy as np\n",
    "import pandas as pd\n",
    "import matplotlib.pyplot as plt\n",
    "pdData=pd.read_csv('./train.csv')"
   ]
  },
  {
   "cell_type": "markdown",
   "metadata": {},
   "source": [
    "### sigmoid 函数"
   ]
  },
  {
   "cell_type": "code",
   "execution_count": 3,
   "metadata": {},
   "outputs": [],
   "source": [
    "\n",
    "def sigmoid(z):\n",
    "    return 1/(1+np.exp(-z))"
   ]
  },
  {
   "cell_type": "code",
   "execution_count": 6,
   "metadata": {},
   "outputs": [
    {
     "data": {
      "text/plain": [
       "[<matplotlib.lines.Line2D at 0x11874af60>]"
      ]
     },
     "execution_count": 6,
     "metadata": {},
     "output_type": "execute_result"
    },
    {
     "data": {
      "image/png": "[encoded data removed]",
      "text/plain": [
       "<Figure size 720x360 with 1 Axes>"
      ]
     },
     "metadata": {},
     "output_type": "display_data"
    }
   ],
   "source": [
    "# 查看图像分布\n",
    "nums=np.arange(-10,10,1)\n",
    "fig=plt.figure(figsize=(10,5))\n",
    "plt.plot(nums,sigmoid(nums),'r')"
   ]
  },
  {
   "cell_type": "markdown",
   "metadata": {},
   "source": [
    "### model 返回预测结果值\n",
    "即预测函数h(thelta)的表达式  即sigmoid(z) 其中z为函数输入  即thelta 的转秩* X 这个相乘的值其实就是y值"
   ]
  },
  {
   "cell_type": "code",
   "execution_count": 7,
   "metadata": {},
   "outputs": [],
   "source": [
    "def model(X,thelta):\n",
    "    return sigmoid(np.dot(X,thelta.T))"
   ]
  },
  {
   "cell_type": "markdown",
   "metadata": {},
   "source": [
    "需要多插入一列 让这一列的数值都等于1 即规范化矩阵方程 添加x0项与thelta0 项（常数项）进行相乘"
   ]
  },
  {
   "cell_type": "code",
   "execution_count": 9,
   "metadata": {},
   "outputs": [
    {
     "name": "stderr",
     "output_type": "stream",
     "text": [
      "/Users/crq/anaconda3/lib/python3.6/site-packages/ipykernel_launcher.py:5: FutureWarning: Method .as_matrix will be removed in a future version. Use .values instead.\n  \"\"\"\n"
     ]
    }
   ],
   "source": [
    "pdData.insert(0,'Ones',1) # 对当前df 使用insert 插入 在第0列插入1 指定列明为ones\n",
    "\n",
    "# 构造矩阵 数据拆分\n",
    "# set X(trainning data) and Y(target data)\n",
    "orig_data=pdData.as_matrix()\n",
    "cols=orig_data.shape[1] # 返回 数据列的数量\n",
    "X=orig_data[:,0:cols-1] # 前闭后开 X\n",
    "Y=orig_data[:,cols-1:cols] # Y\n",
    "\n",
    "\n",
    "# theta 是我们当前的参数 因为有3个  虽然现在还没用 但是我们得进行一个占位  所以\n",
    "theta=np.zeros([1,3]) # 一行3列的0 矩阵\n",
    "# 然后检查一下数据"
   ]
  },
  {
   "cell_type": "code",
   "execution_count": 10,
   "metadata": {},
   "outputs": [
    {
     "data": {
      "text/plain": [
       "array([[1, 1, 60, 'RL', 65.0, 8450, 'Pave', nan, 'Reg', 'Lvl', 'AllPub',\n        'Inside', 'Gtl', 'CollgCr', 'Norm', 'Norm', '1Fam', '2Story', 7,\n        5, 2003, 2003, 'Gable', 'CompShg', 'VinylSd', 'VinylSd',\n        'BrkFace', 196.0, 'Gd', 'TA', 'PConc', 'Gd', 'TA', 'No', 'GLQ',\n        706, 'Unf', 0, 150, 856, 'GasA', 'Ex', 'Y', 'SBrkr', 856, 854, 0,\n        1710, 1, 0, 2, 1, 3, 1, 'Gd', 8, 'Typ', 0, nan, 'Attchd', 2003.0,\n        'RFn', 2, 548, 'TA', 'TA', 'Y', 0, 61, 0, 0, 0, 0, nan, nan, nan,\n        0, 2, 2008, 'WD', 'Normal'],\n       [1, 2, 20, 'RL', 80.0, 9600, 'Pave', nan, 'Reg', 'Lvl', 'AllPub',\n        'FR2', 'Gtl', 'Veenker', 'Feedr', 'Norm', '1Fam', '1Story', 6, 8,\n        1976, 1976, 'Gable', 'CompShg', 'MetalSd', 'MetalSd', 'None',\n        0.0, 'TA', 'TA', 'CBlock', 'Gd', 'TA', 'Gd', 'ALQ', 978, 'Unf',\n        0, 284, 1262, 'GasA', 'Ex', 'Y', 'SBrkr', 1262, 0, 0, 1262, 0, 1,\n        2, 0, 3, 1, 'TA', 6, 'Typ', 1, 'TA', 'Attchd', 1976.0, 'RFn', 2,\n        460, 'TA', 'TA', 'Y', 298, 0, 0, 0, 0, 0, nan, nan, nan, 0, 5,\n        2007, 'WD', 'Normal'],\n       [1, 3, 60, 'RL', 68.0, 11250, 'Pave', nan, 'IR1', 'Lvl', 'AllPub',\n        'Inside', 'Gtl', 'CollgCr', 'Norm', 'Norm', '1Fam', '2Story', 7,\n        5, 2001, 2002, 'Gable', 'CompShg', 'VinylSd', 'VinylSd',\n        'BrkFace', 162.0, 'Gd', 'TA', 'PConc', 'Gd', 'TA', 'Mn', 'GLQ',\n        486, 'Unf', 0, 434, 920, 'GasA', 'Ex', 'Y', 'SBrkr', 920, 866, 0,\n        1786, 1, 0, 2, 1, 3, 1, 'Gd', 6, 'Typ', 1, 'TA', 'Attchd',\n        2001.0, 'RFn', 2, 608, 'TA', 'TA', 'Y', 0, 42, 0, 0, 0, 0, nan,\n        nan, nan, 0, 9, 2008, 'WD', 'Normal'],\n       [1, 4, 70, 'RL', 60.0, 9550, 'Pave', nan, 'IR1', 'Lvl', 'AllPub',\n        'Corner', 'Gtl', 'Crawfor', 'Norm', 'Norm', '1Fam', '2Story', 7,\n        5, 1915, 1970, 'Gable', 'CompShg', 'Wd Sdng', 'Wd Shng', 'None',\n        0.0, 'TA', 'TA', 'BrkTil', 'TA', 'Gd', 'No', 'ALQ', 216, 'Unf',\n        0, 540, 756, 'GasA', 'Gd', 'Y', 'SBrkr', 961, 756, 0, 1717, 1, 0,\n        1, 0, 3, 1, 'Gd', 7, 'Typ', 1, 'Gd', 'Detchd', 1998.0, 'Unf', 3,\n        642, 'TA', 'TA', 'Y', 0, 35, 272, 0, 0, 0, nan, nan, nan, 0, 2,\n        2006, 'WD', 'Abnorml'],\n       [1, 5, 60, 'RL', 84.0, 14260, 'Pave', nan, 'IR1', 'Lvl', 'AllPub',\n        'FR2', 'Gtl', 'NoRidge', 'Norm', 'Norm', '1Fam', '2Story', 8, 5,\n        2000, 2000, 'Gable', 'CompShg', 'VinylSd', 'VinylSd', 'BrkFace',\n        350.0, 'Gd', 'TA', 'PConc', 'Gd', 'TA', 'Av', 'GLQ', 655, 'Unf',\n        0, 490, 1145, 'GasA', 'Ex', 'Y', 'SBrkr', 1145, 1053, 0, 2198, 1,\n        0, 2, 1, 4, 1, 'Gd', 9, 'Typ', 1, 'TA', 'Attchd', 2000.0, 'RFn',\n        3, 836, 'TA', 'TA', 'Y', 192, 84, 0, 0, 0, 0, nan, nan, nan, 0,\n        12, 2008, 'WD', 'Normal']], dtype=object)"
      ]
     },
     "execution_count": 10,
     "metadata": {},
     "output_type": "execute_result"
    }
   ],
   "source": [
    "X[:5]"
   ]
  },
  {
   "cell_type": "code",
   "execution_count": 13,
   "metadata": {},
   "outputs": [
    {
     "data": {
      "text/plain": [
       "array([[208500],\n       [181500],\n       [223500],\n       [140000],\n       [250000]], dtype=object)"
      ]
     },
     "execution_count": 13,
     "metadata": {},
     "output_type": "execute_result"
    }
   ],
   "source": [
    "Y[:5]"
   ]
  },
  {
   "cell_type": "code",
   "execution_count": 14,
   "metadata": {},
   "outputs": [
    {
     "data": {
      "text/plain": [
       "array([[0., 0., 0.]])"
      ]
     },
     "execution_count": 14,
     "metadata": {},
     "output_type": "execute_result"
    }
   ],
   "source": [
    "theta"
   ]
  },
  {
   "cell_type": "markdown",
   "metadata": {},
   "source": [
    "## 损失函数\n",
    "函数组合  损失函数定义"
   ]
  },
  {
   "cell_type": "code",
   "execution_count": 15,
   "metadata": {},
   "outputs": [],
   "source": [
    "def cost(X,y,theta):\n",
    "    left=np.multiply(-y,np.log(model(X,theta)))\n",
    "    right=np.multiply(1-y,np.log(1-model(X,theta)))\n",
    "    return np.sum(left-right)/(len(X))"
   ]
  },
  {
   "cell_type": "code",
   "execution_count": 17,
   "metadata": {},
   "outputs": [
    {
     "ename": "ValueError",
     "evalue": "shapes (1460,81) and (3,1) not aligned: 81 (dim 1) != 3 (dim 0)",
     "traceback": [
      "\u001b[0;31m---------------------------------------------------------------------------\u001b[0m",
      "\u001b[0;31mValueError\u001b[0m                                Traceback (most recent call last)",
      "\u001b[0;32m<ipython-input-17-f022da08cff2>\u001b[0m in \u001b[0;36m<module>\u001b[0;34m\u001b[0m\n\u001b[0;32m----> 1\u001b[0;31m \u001b[0mcost\u001b[0m\u001b[0;34m(\u001b[0m\u001b[0mX\u001b[0m\u001b[0;34m,\u001b[0m\u001b[0mY\u001b[0m\u001b[0;34m,\u001b[0m\u001b[0mtheta\u001b[0m\u001b[0;34m)\u001b[0m\u001b[0;34m\u001b[0m\u001b[0m\n\u001b[0m",
      "\u001b[0;32m<ipython-input-15-c239431d7481>\u001b[0m in \u001b[0;36mcost\u001b[0;34m(X, y, theta)\u001b[0m\n\u001b[1;32m      1\u001b[0m \u001b[0;32mdef\u001b[0m \u001b[0mcost\u001b[0m\u001b[0;34m(\u001b[0m\u001b[0mX\u001b[0m\u001b[0;34m,\u001b[0m\u001b[0my\u001b[0m\u001b[0;34m,\u001b[0m\u001b[0mtheta\u001b[0m\u001b[0;34m)\u001b[0m\u001b[0;34m:\u001b[0m\u001b[0;34m\u001b[0m\u001b[0m\n\u001b[0;32m----> 2\u001b[0;31m     \u001b[0mleft\u001b[0m\u001b[0;34m=\u001b[0m\u001b[0mnp\u001b[0m\u001b[0;34m.\u001b[0m\u001b[0mmultiply\u001b[0m\u001b[0;34m(\u001b[0m\u001b[0;34m-\u001b[0m\u001b[0my\u001b[0m\u001b[0;34m,\u001b[0m\u001b[0mnp\u001b[0m\u001b[0;34m.\u001b[0m\u001b[0mlog\u001b[0m\u001b[0;34m(\u001b[0m\u001b[0mmodel\u001b[0m\u001b[0;34m(\u001b[0m\u001b[0mX\u001b[0m\u001b[0;34m,\u001b[0m\u001b[0mtheta\u001b[0m\u001b[0;34m)\u001b[0m\u001b[0;34m)\u001b[0m\u001b[0;34m)\u001b[0m\u001b[0;34m\u001b[0m\u001b[0m\n\u001b[0m\u001b[1;32m      3\u001b[0m     \u001b[0mright\u001b[0m\u001b[0;34m=\u001b[0m\u001b[0mnp\u001b[0m\u001b[0;34m.\u001b[0m\u001b[0mmultiply\u001b[0m\u001b[0;34m(\u001b[0m\u001b[0;36m1\u001b[0m\u001b[0;34m-\u001b[0m\u001b[0my\u001b[0m\u001b[0;34m,\u001b[0m\u001b[0mnp\u001b[0m\u001b[0;34m.\u001b[0m\u001b[0mlog\u001b[0m\u001b[0;34m(\u001b[0m\u001b[0;36m1\u001b[0m\u001b[0;34m-\u001b[0m\u001b[0mmodel\u001b[0m\u001b[0;34m(\u001b[0m\u001b[0mX\u001b[0m\u001b[0;34m,\u001b[0m\u001b[0mtheta\u001b[0m\u001b[0;34m)\u001b[0m\u001b[0;34m)\u001b[0m\u001b[0;34m)\u001b[0m\u001b[0;34m\u001b[0m\u001b[0m\n\u001b[1;32m      4\u001b[0m     \u001b[0;32mreturn\u001b[0m \u001b[0mnp\u001b[0m\u001b[0;34m.\u001b[0m\u001b[0msum\u001b[0m\u001b[0;34m(\u001b[0m\u001b[0mleft\u001b[0m\u001b[0;34m-\u001b[0m\u001b[0mright\u001b[0m\u001b[0;34m)\u001b[0m\u001b[0;34m/\u001b[0m\u001b[0;34m(\u001b[0m\u001b[0mlen\u001b[0m\u001b[0;34m(\u001b[0m\u001b[0mX\u001b[0m\u001b[0;34m)\u001b[0m\u001b[0;34m)\u001b[0m\u001b[0;34m\u001b[0m\u001b[0m\n",
      "\u001b[0;32m<ipython-input-7-3bbbcc64a639>\u001b[0m in \u001b[0;36mmodel\u001b[0;34m(X, thelta)\u001b[0m\n\u001b[1;32m      1\u001b[0m \u001b[0;32mdef\u001b[0m \u001b[0mmodel\u001b[0m\u001b[0;34m(\u001b[0m\u001b[0mX\u001b[0m\u001b[0;34m,\u001b[0m\u001b[0mthelta\u001b[0m\u001b[0;34m)\u001b[0m\u001b[0;34m:\u001b[0m\u001b[0;34m\u001b[0m\u001b[0m\n\u001b[0;32m----> 2\u001b[0;31m     \u001b[0;32mreturn\u001b[0m \u001b[0msigmoid\u001b[0m\u001b[0;34m(\u001b[0m\u001b[0mnp\u001b[0m\u001b[0;34m.\u001b[0m\u001b[0mdot\u001b[0m\u001b[0;34m(\u001b[0m\u001b[0mX\u001b[0m\u001b[0;34m,\u001b[0m\u001b[0mthelta\u001b[0m\u001b[0;34m.\u001b[0m\u001b[0mT\u001b[0m\u001b[0;34m)\u001b[0m\u001b[0;34m)\u001b[0m\u001b[0;34m\u001b[0m\u001b[0m\n\u001b[0m",
      "\u001b[0;31mValueError\u001b[0m: shapes (1460,81) and (3,1) not aligned: 81 (dim 1) != 3 (dim 0)"
     ],
     "output_type": "error"
    }
   ],
   "source": [
    "cost(X,Y,theta)"
   ]
  },
  {
   "cell_type": "markdown",
   "metadata": {},
   "source": [
    "计算梯度"
   ]
  },
  {
   "cell_type": "markdown",
   "metadata": {},
   "source": [
    "计算梯度  即所求的偏导 "
   ]
  },
  {
   "cell_type": "code",
   "execution_count": 18,
   "metadata": {},
   "outputs": [],
   "source": [
    "def gradient(X,y,theta):\n",
    "    grad=np.zeros(theta.shape) # theta 参数用3个  所以我们要求出3个theta 的解 所以这里的grad 梯度应分别对应3个theta 所以初始化3个 zeros 占位\n",
    "    error=(model(X,theta)-y).ravel()   # 将多维数组变成1维  因为没有ravel() 之前 是一个n行1列的矩阵\n",
    "    for j in range(len(theta.ravel())):\n",
    "        term=np.multiply(error,X[:,j])\n",
    "        grad[0,j]=np.sum(term)/len(X)\n",
    "    return grad"
   ]
  },
  {
   "cell_type": "markdown",
   "metadata": {},
   "source": [
    "### Gradient decent\n",
    "确定了梯度 即确定了更新方向 \n",
    "\n",
    "接下来 比较3种不同梯度下降方法 "
   ]
  },
  {
   "cell_type": "code",
   "execution_count": 19,
   "metadata": {},
   "outputs": [],
   "source": [
    "STOP_ITER=0 # 按照迭代次数进行停止\n",
    "STOP_COST=1 # 根据损失值目标函数的变换 即观察cost function 如果带带前后两次的值差别buda 即停止迭代\n",
    "STOP_GRAD=2 # 根据梯度 如果前后两次梯度变化特别小 停止迭代\n",
    "\n",
    "def stopCriterion(type,value,threshold):\n",
    "    # 设定三种不同的停止策略：\n",
    "    if type==STOP_ITER: return value>threshold\n",
    "    elif type==STOP_COST: return abs(value[-1]-value[-2])<threshold\n",
    "    elif type==STOP_GRAD: \n",
    "        return np.linalg.norm(value)<threshold # np.linalg.norm  求范数 "
   ]
  },
  {
   "cell_type": "code",
   "execution_count": 20,
   "metadata": {},
   "outputs": [],
   "source": [
    "# 洗牌 将数据打乱 目前的数据可能是有规律的 所以先将数据打乱\n",
    "def shuffleData(data):\n",
    "    np.random.shuffle(data) # numpy 中提供了shuffle 这个函数\n",
    "    cols=data.shape[1]\n",
    "    X=data[:,0:cols-1]\n",
    "    y=data[:,cols-1:cols]\n",
    "    return X,y\n",
    "    "
   ]
  },
  {
   "cell_type": "code",
   "execution_count": 21,
   "metadata": {},
   "outputs": [],
   "source": [
    "import time\n",
    "# 不同的梯度下降算法 所用的时间是不一样的 所以这里我们看一下时间的大小\n",
    "# 将所有所涉及的参数传入 batchSize  迭代方式\n",
    "# 该函数主要功能 是参数更新  即theta=theta-alpha * 梯度 在一定的迭代次数停止 定义阀值 用于作比较\n",
    "def descent(data,theta,batchSize,stopType,thresh,alpha):\n",
    "    # 梯度下降求解\n",
    "    \n",
    "    init_time=time.time()\n",
    "    \n",
    "    i=0 # 迭代次数\n",
    "    k=0 # batch\n",
    "    \n",
    "    X,y=shuffleData(data)\n",
    "    grad=np.zeros(theta.shape) # 计算的梯度\n",
    "    costs=[cost[X,y,theta]] # 损失值 用于第二种停止策略\n",
    "    while True:\n",
    "        grad=gradient(X[k:k+batchSize],y[k:k+batchSize],theta) # 求出各个theta 参数的下降方向\n",
    "        k+=batchSize # 取batch 个数据  批量梯度下降 传入所有样本个数 随机 每一传一个 \n",
    "        # 小批量  选取一部分 比如说10个\n",
    "        if k>=n:\n",
    "            \n",
    "            k=0\n",
    "            X,y=shuffleData(data) # 重新洗牌\n",
    "        theta=theta-alpha*grad  # 参数更新\n",
    "        costs=[cost[X,y,theta]] # 计算新的损失\n",
    "        i+=1\n",
    "        if stopType ==STOP_ITER: value=i\n",
    "        elif stopType==STOP_COST: value=costs\n",
    "        elif stopType==STOP_GRAD: value=grad\n",
    "        if stopCriterion(stopType,value,thresh): break # 如果符合条件 则完成了迭代 退出\n",
    "    return theta,i-1,costs,grad,time.time()-init_time\n",
    "    "
   ]
  },
  {
   "cell_type": "code",
   "execution_count": 22,
   "metadata": {},
   "outputs": [],
   "source": [
    "# 启动函数 \n",
    "def runExpe(data,theta,batchSize,stopType,thresh,alpha):\n",
    "    theta,iter,costs,grad,dur=descent(data,theta,batchSize,stopType,thresh,alpha)\n",
    "    # 参数定义等....\n",
    "    name ='Original' if(data[:,1]>2).sum()>1 else 'Scaled' \n",
    "    name+='data-learning rate:{} -'.format(alpha)\n",
    "    \n",
    "    if batchSize==n:    strDescType ='Gradient'\n",
    "    elif batchSize==1:  strDescType='Stochasitic'\n",
    "    else: strDescType='Mini-batch ({})'.format(batchSize)\n",
    "    \n",
    "    name +=strDescType +'descent -stop:'\n",
    "    \n",
    "    if stopType ==STOP_ITER: strStop='{} iterations'.format(thresh)\n",
    "    elif stopType ==STOP_COST: strStop ='costs change < {}'.format(thresh)\n",
    "    else: strStop='gradient norm < {}'.format(thresh)\n",
    "    \n",
    "    name +=strStop\n",
    "    \n",
    "    print('***{} \\n Theta: {} - Iter: {} - Last cost :{.03.2f} - Duration: {:03.2f}s'\n",
    "          .format(name,theta,iter,costs[-1],dur))\n",
    "    \n",
    "    # 画图\n",
    "    fig,ax=plt.subplots(figsize=(12,4))\n",
    "    ax.plot(np.arange(len(costs)),costs,'r')\n",
    "    ax.set_xlabel('Iterations')\n",
    "    ax.set_ylabel('Cost')\n",
    "    ax.set_title(name.upper()+' - Error vs . Iteration')\n",
    "    return theta"
   ]
  },
  {
   "cell_type": "code",
   "execution_count": 23,
   "metadata": {},
   "outputs": [
    {
     "ename": "TypeError",
     "evalue": "'function' object is not subscriptable",
     "traceback": [
      "\u001b[0;31m---------------------------------------------------------------------------\u001b[0m",
      "\u001b[0;31mTypeError\u001b[0m                                 Traceback (most recent call last)",
      "\u001b[0;32m<ipython-input-23-0591ac5b7f29>\u001b[0m in \u001b[0;36m<module>\u001b[0;34m\u001b[0m\n\u001b[1;32m      2\u001b[0m \u001b[0;34m\u001b[0m\u001b[0m\n\u001b[1;32m      3\u001b[0m \u001b[0mn\u001b[0m\u001b[0;34m=\u001b[0m\u001b[0;36m100\u001b[0m\u001b[0;34m\u001b[0m\u001b[0m\n\u001b[0;32m----> 4\u001b[0;31m \u001b[0mrunExpe\u001b[0m\u001b[0;34m(\u001b[0m\u001b[0morig_data\u001b[0m\u001b[0;34m,\u001b[0m\u001b[0mtheta\u001b[0m\u001b[0;34m,\u001b[0m\u001b[0mn\u001b[0m\u001b[0;34m,\u001b[0m\u001b[0mSTOP_ITER\u001b[0m\u001b[0;34m,\u001b[0m\u001b[0mthresh\u001b[0m\u001b[0;34m=\u001b[0m\u001b[0;36m5000\u001b[0m\u001b[0;34m,\u001b[0m\u001b[0malpha\u001b[0m\u001b[0;34m=\u001b[0m\u001b[0;36m0.000001\u001b[0m\u001b[0;34m)\u001b[0m\u001b[0;34m\u001b[0m\u001b[0m\n\u001b[0m",
      "\u001b[0;32m<ipython-input-22-93190ca7c0ad>\u001b[0m in \u001b[0;36mrunExpe\u001b[0;34m(data, theta, batchSize, stopType, thresh, alpha)\u001b[0m\n\u001b[1;32m      1\u001b[0m \u001b[0;31m# 启动函数\u001b[0m\u001b[0;34m\u001b[0m\u001b[0;34m\u001b[0m\u001b[0m\n\u001b[1;32m      2\u001b[0m \u001b[0;32mdef\u001b[0m \u001b[0mrunExpe\u001b[0m\u001b[0;34m(\u001b[0m\u001b[0mdata\u001b[0m\u001b[0;34m,\u001b[0m\u001b[0mtheta\u001b[0m\u001b[0;34m,\u001b[0m\u001b[0mbatchSize\u001b[0m\u001b[0;34m,\u001b[0m\u001b[0mstopType\u001b[0m\u001b[0;34m,\u001b[0m\u001b[0mthresh\u001b[0m\u001b[0;34m,\u001b[0m\u001b[0malpha\u001b[0m\u001b[0;34m)\u001b[0m\u001b[0;34m:\u001b[0m\u001b[0;34m\u001b[0m\u001b[0m\n\u001b[0;32m----> 3\u001b[0;31m     \u001b[0mtheta\u001b[0m\u001b[0;34m,\u001b[0m\u001b[0miter\u001b[0m\u001b[0;34m,\u001b[0m\u001b[0mcosts\u001b[0m\u001b[0;34m,\u001b[0m\u001b[0mgrad\u001b[0m\u001b[0;34m,\u001b[0m\u001b[0mdur\u001b[0m\u001b[0;34m=\u001b[0m\u001b[0mdescent\u001b[0m\u001b[0;34m(\u001b[0m\u001b[0mdata\u001b[0m\u001b[0;34m,\u001b[0m\u001b[0mtheta\u001b[0m\u001b[0;34m,\u001b[0m\u001b[0mbatchSize\u001b[0m\u001b[0;34m,\u001b[0m\u001b[0mstopType\u001b[0m\u001b[0;34m,\u001b[0m\u001b[0mthresh\u001b[0m\u001b[0;34m,\u001b[0m\u001b[0malpha\u001b[0m\u001b[0;34m)\u001b[0m\u001b[0;34m\u001b[0m\u001b[0m\n\u001b[0m\u001b[1;32m      4\u001b[0m     \u001b[0;31m# 参数定义等....\u001b[0m\u001b[0;34m\u001b[0m\u001b[0;34m\u001b[0m\u001b[0m\n\u001b[1;32m      5\u001b[0m     \u001b[0mname\u001b[0m \u001b[0;34m=\u001b[0m\u001b[0;34m'Original'\u001b[0m \u001b[0;32mif\u001b[0m\u001b[0;34m(\u001b[0m\u001b[0mdata\u001b[0m\u001b[0;34m[\u001b[0m\u001b[0;34m:\u001b[0m\u001b[0;34m,\u001b[0m\u001b[0;36m1\u001b[0m\u001b[0;34m]\u001b[0m\u001b[0;34m>\u001b[0m\u001b[0;36m2\u001b[0m\u001b[0;34m)\u001b[0m\u001b[0;34m.\u001b[0m\u001b[0msum\u001b[0m\u001b[0;34m(\u001b[0m\u001b[0;34m)\u001b[0m\u001b[0;34m>\u001b[0m\u001b[0;36m1\u001b[0m \u001b[0;32melse\u001b[0m \u001b[0;34m'Scaled'\u001b[0m\u001b[0;34m\u001b[0m\u001b[0m\n",
      "\u001b[0;32m<ipython-input-21-5a7769298eb9>\u001b[0m in \u001b[0;36mdescent\u001b[0;34m(data, theta, batchSize, stopType, thresh, alpha)\u001b[0m\n\u001b[1;32m     13\u001b[0m     \u001b[0mX\u001b[0m\u001b[0;34m,\u001b[0m\u001b[0my\u001b[0m\u001b[0;34m=\u001b[0m\u001b[0mshuffleData\u001b[0m\u001b[0;34m(\u001b[0m\u001b[0mdata\u001b[0m\u001b[0;34m)\u001b[0m\u001b[0;34m\u001b[0m\u001b[0m\n\u001b[1;32m     14\u001b[0m     \u001b[0mgrad\u001b[0m\u001b[0;34m=\u001b[0m\u001b[0mnp\u001b[0m\u001b[0;34m.\u001b[0m\u001b[0mzeros\u001b[0m\u001b[0;34m(\u001b[0m\u001b[0mtheta\u001b[0m\u001b[0;34m.\u001b[0m\u001b[0mshape\u001b[0m\u001b[0;34m)\u001b[0m \u001b[0;31m# 计算的梯度\u001b[0m\u001b[0;34m\u001b[0m\u001b[0m\n\u001b[0;32m---> 15\u001b[0;31m     \u001b[0mcosts\u001b[0m\u001b[0;34m=\u001b[0m\u001b[0;34m[\u001b[0m\u001b[0mcost\u001b[0m\u001b[0;34m[\u001b[0m\u001b[0mX\u001b[0m\u001b[0;34m,\u001b[0m\u001b[0my\u001b[0m\u001b[0;34m,\u001b[0m\u001b[0mtheta\u001b[0m\u001b[0;34m]\u001b[0m\u001b[0;34m]\u001b[0m \u001b[0;31m# 损失值 用于第二种停止策略\u001b[0m\u001b[0;34m\u001b[0m\u001b[0m\n\u001b[0m\u001b[1;32m     16\u001b[0m     \u001b[0;32mwhile\u001b[0m \u001b[0;32mTrue\u001b[0m\u001b[0;34m:\u001b[0m\u001b[0;34m\u001b[0m\u001b[0m\n\u001b[1;32m     17\u001b[0m         \u001b[0mgrad\u001b[0m\u001b[0;34m=\u001b[0m\u001b[0mgradient\u001b[0m\u001b[0;34m(\u001b[0m\u001b[0mX\u001b[0m\u001b[0;34m[\u001b[0m\u001b[0mk\u001b[0m\u001b[0;34m:\u001b[0m\u001b[0mk\u001b[0m\u001b[0;34m+\u001b[0m\u001b[0mbatchSize\u001b[0m\u001b[0;34m]\u001b[0m\u001b[0;34m,\u001b[0m\u001b[0my\u001b[0m\u001b[0;34m[\u001b[0m\u001b[0mk\u001b[0m\u001b[0;34m:\u001b[0m\u001b[0mk\u001b[0m\u001b[0;34m+\u001b[0m\u001b[0mbatchSize\u001b[0m\u001b[0;34m]\u001b[0m\u001b[0;34m,\u001b[0m\u001b[0mtheta\u001b[0m\u001b[0;34m)\u001b[0m \u001b[0;31m# 求出各个theta 参数的下降方向\u001b[0m\u001b[0;34m\u001b[0m\u001b[0m\n",
      "\u001b[0;31mTypeError\u001b[0m: 'function' object is not subscriptable"
     ],
     "output_type": "error"
    }
   ],
   "source": [
    "# 选择的梯度下降方法 是基于所有样本的\n",
    "\n",
    "n=100\n",
    "runExpe(orig_data,theta,n,STOP_ITER,thresh=5000,alpha=0.000001)"
   ]
  },
  {
   "cell_type": "code",
   "execution_count": null,
   "metadata": {},
   "outputs": [],
   "source": []
  }
 ],
 "metadata": {
  "kernelspec": {
   "display_name": "Python 2",
   "language": "python",
   "name": "python2"
  },
  "language_info": {
   "codemirror_mode": {
    "name": "ipython",
    "version": 2
   },
   "file_extension": ".py",
   "mimetype": "text/x-python",
   "name": "python",
   "nbconvert_exporter": "python",
   "pygments_lexer": "ipython2",
   "version": "2.7.6"
  }
 },
 "nbformat": 4,
 "nbformat_minor": 0
}
