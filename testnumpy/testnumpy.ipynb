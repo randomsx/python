{
 "cells": [
  {
   "cell_type": "code",
   "execution_count": 5,
   "metadata": {
    "collapsed": true
   },
   "outputs": [
    {
     "name": "stdout",
     "output_type": "stream",
     "text": [
      "<class 'numpy.ndarray'>\n"
     ]
    }
   ],
   "source": [
    "# 打开文件夹\n",
    "import numpy as np\n",
    "import sys\n",
    "test=np.genfromtxt('/Users/crq/PycharmProjects/learnPython/testnumpy/data.txt',delimiter=',',dtype=int)\n",
    "print(type(test))"
   ]
  },
  {
   "cell_type": "code",
   "execution_count": 6,
   "metadata": {},
   "outputs": [
    {
     "name": "stdout",
     "output_type": "stream",
     "text": [
      "Help on function genfromtxt in module numpy.lib.npyio:\n\ngenfromtxt(fname, dtype=<class 'float'>, comments='#', delimiter=None, skip_header=0, skip_footer=0, converters=None, missing_values=None, filling_values=None, usecols=None, names=None, excludelist=None, deletechars=None, replace_space='_', autostrip=False, case_sensitive=True, defaultfmt='f%i', unpack=None, usemask=False, loose=True, invalid_raise=True, max_rows=None, encoding='bytes')\n    Load data from a text file, with missing values handled as specified.\n    \n    Each line past the first `skip_header` lines is split at the `delimiter`\n    character, and characters following the `comments` character are discarded.\n    \n    Parameters\n    ----------\n    fname : file, str, pathlib.Path, list of str, generator\n        File, filename, list, or generator to read.  If the filename\n        extension is `.gz` or `.bz2`, the file is first decompressed. Note\n        that generators must return byte strings in Python 3k.  The strings\n        in a list or produced by a generator are treated as lines.\n    dtype : dtype, optional\n        Data type of the resulting array.\n        If None, the dtypes will be determined by the contents of each\n        column, individually.\n    comments : str, optional\n        The character used to indicate the start of a comment.\n        All the characters occurring on a line after a comment are discarded\n    delimiter : str, int, or sequence, optional\n        The string used to separate values.  By default, any consecutive\n        whitespaces act as delimiter.  An integer or sequence of integers\n        can also be provided as width(s) of each field.\n    skiprows : int, optional\n        `skiprows` was removed in numpy 1.10. Please use `skip_header` instead.\n    skip_header : int, optional\n        The number of lines to skip at the beginning of the file.\n    skip_footer : int, optional\n        The number of lines to skip at the end of the file.\n    converters : variable, optional\n        The set of functions that convert the data of a column to a value.\n        The converters can also be used to provide a default value\n        for missing data: ``converters = {3: lambda s: float(s or 0)}``.\n    missing : variable, optional\n        `missing` was removed in numpy 1.10. Please use `missing_values`\n        instead.\n    missing_values : variable, optional\n        The set of strings corresponding to missing data.\n    filling_values : variable, optional\n        The set of values to be used as default when the data are missing.\n    usecols : sequence, optional\n        Which columns to read, with 0 being the first.  For example,\n        ``usecols = (1, 4, 5)`` will extract the 2nd, 5th and 6th columns.\n    names : {None, True, str, sequence}, optional\n        If `names` is True, the field names are read from the first line after\n        the first `skip_header` lines.  This line can optionally be proceeded\n        by a comment delimiter. If `names` is a sequence or a single-string of\n        comma-separated names, the names will be used to define the field names\n        in a structured dtype. If `names` is None, the names of the dtype\n        fields will be used, if any.\n    excludelist : sequence, optional\n        A list of names to exclude. This list is appended to the default list\n        ['return','file','print']. Excluded names are appended an underscore:\n        for example, `file` would become `file_`.\n    deletechars : str, optional\n        A string combining invalid characters that must be deleted from the\n        names.\n    defaultfmt : str, optional\n        A format used to define default field names, such as \"f%i\" or \"f_%02i\".\n    autostrip : bool, optional\n        Whether to automatically strip white spaces from the variables.\n    replace_space : char, optional\n        Character(s) used in replacement of white spaces in the variables\n        names. By default, use a '_'.\n    case_sensitive : {True, False, 'upper', 'lower'}, optional\n        If True, field names are case sensitive.\n        If False or 'upper', field names are converted to upper case.\n        If 'lower', field names are converted to lower case.\n    unpack : bool, optional\n        If True, the returned array is transposed, so that arguments may be\n        unpacked using ``x, y, z = loadtxt(...)``\n    usemask : bool, optional\n        If True, return a masked array.\n        If False, return a regular array.\n    loose : bool, optional\n        If True, do not raise errors for invalid values.\n    invalid_raise : bool, optional\n        If True, an exception is raised if an inconsistency is detected in the\n        number of columns.\n        If False, a warning is emitted and the offending lines are skipped.\n    max_rows : int,  optional\n        The maximum number of rows to read. Must not be used with skip_footer\n        at the same time.  If given, the value must be at least 1. Default is\n        to read the entire file.\n    \n        .. versionadded:: 1.10.0\n    encoding : str, optional\n        Encoding used to decode the inputfile. Does not apply when `fname` is\n        a file object.  The special value 'bytes' enables backward compatibility\n        workarounds that ensure that you receive byte arrays when possible\n        and passes latin1 encoded strings to converters. Override this value to\n        receive unicode arrays and pass strings as input to converters.  If set\n        to None the system default is used. The default value is 'bytes'.\n    \n        .. versionadded:: 1.14.0\n    \n    Returns\n    -------\n    out : ndarray\n        Data read from the text file. If `usemask` is True, this is a\n        masked array.\n    \n    See Also\n    --------\n    numpy.loadtxt : equivalent function when no data is missing.\n    \n    Notes\n    -----\n    * When spaces are used as delimiters, or when no delimiter has been given\n      as input, there should not be any missing data between two fields.\n    * When the variables are named (either by a flexible dtype or with `names`,\n      there must not be any header in the file (else a ValueError\n      exception is raised).\n    * Individual values are not stripped of spaces by default.\n      When using a custom converter, make sure the function does remove spaces.\n    \n    References\n    ----------\n    .. [1] NumPy User Guide, section `I/O with NumPy\n           <http://docs.scipy.org/doc/numpy/user/basics.io.genfromtxt.html>`_.\n    \n    Examples\n    ---------\n    >>> from io import StringIO\n    >>> import numpy as np\n    \n    Comma delimited file with mixed dtype\n    \n    >>> s = StringIO(u\"1,1.3,abcde\")\n    >>> data = np.genfromtxt(s, dtype=[('myint','i8'),('myfloat','f8'),\n    ... ('mystring','S5')], delimiter=\",\")\n    >>> data\n    array((1, 1.3, 'abcde'),\n          dtype=[('myint', '<i8'), ('myfloat', '<f8'), ('mystring', '|S5')])\n    \n    Using dtype = None\n    \n    >>> s.seek(0) # needed for StringIO example only\n    >>> data = np.genfromtxt(s, dtype=None,\n    ... names = ['myint','myfloat','mystring'], delimiter=\",\")\n    >>> data\n    array((1, 1.3, 'abcde'),\n          dtype=[('myint', '<i8'), ('myfloat', '<f8'), ('mystring', '|S5')])\n    \n    Specifying dtype and names\n    \n    >>> s.seek(0)\n    >>> data = np.genfromtxt(s, dtype=\"i8,f8,S5\",\n    ... names=['myint','myfloat','mystring'], delimiter=\",\")\n    >>> data\n    array((1, 1.3, 'abcde'),\n          dtype=[('myint', '<i8'), ('myfloat', '<f8'), ('mystring', '|S5')])\n    \n    An example with fixed-width columns\n    \n    >>> s = StringIO(u\"11.3abcde\")\n    >>> data = np.genfromtxt(s, dtype=None, names=['intvar','fltvar','strvar'],\n    ...     delimiter=[1,3,5])\n    >>> data\n    array((1, 1.3, 'abcde'),\n          dtype=[('intvar', '<i8'), ('fltvar', '<f8'), ('strvar', '|S5')])\n\n"
     ]
    }
   ],
   "source": [
    "help(np.genfromtxt)"
   ]
  },
  {
   "cell_type": "markdown",
   "metadata": {},
   "source": [
    "## shape 用于查看numpy 数组的结构  用得很多"
   ]
  },
  {
   "cell_type": "code",
   "execution_count": 8,
   "metadata": {},
   "outputs": [
    {
     "data": {
      "text/plain": [
       "(4,)"
      ]
     },
     "execution_count": 8,
     "metadata": {},
     "output_type": "execute_result"
    }
   ],
   "source": [
    "import numpy as np\n",
    "n1=np.array([1,2,3,4])\n",
    "n1.shape"
   ]
  },
  {
   "cell_type": "markdown",
   "metadata": {},
   "source": [
    "## dtype 查看具体的数据类型"
   ]
  },
  {
   "cell_type": "code",
   "execution_count": 10,
   "metadata": {},
   "outputs": [
    {
     "data": {
      "text/plain": [
       "dtype('int64')"
      ]
     },
     "execution_count": 10,
     "metadata": {},
     "output_type": "execute_result"
    }
   ],
   "source": [
    "n1.dtype"
   ]
  },
  {
   "cell_type": "markdown",
   "metadata": {},
   "source": [
    "## numpy 不像list 等 其中的数据类型都必须是一样的"
   ]
  },
  {
   "cell_type": "code",
   "execution_count": 12,
   "metadata": {},
   "outputs": [
    {
     "name": "stdout",
     "output_type": "stream",
     "text": [
      "int64\n[1. 2. 3. 4.]\nfloat64\n"
     ]
    }
   ],
   "source": [
    "number1=np.array([1,2,3,4])\n",
    "print(number1.dtype)\n",
    "number1=np.array([1,2,3,4.0])\n",
    "print(number1)\n",
    "print(number1.dtype)"
   ]
  },
  {
   "cell_type": "code",
   "execution_count": 13,
   "metadata": {},
   "outputs": [
    {
     "data": {
      "text/plain": [
       "(2, 4)"
      ]
     },
     "execution_count": 13,
     "metadata": {},
     "output_type": "execute_result"
    }
   ],
   "source": [
    "number=np.array([\n",
    "    [1,2,3,4],\n",
    "    [5,6,7,8]\n",
    "])\n",
    "number.shape"
   ]
  },
  {
   "cell_type": "code",
   "execution_count": 15,
   "metadata": {},
   "outputs": [
    {
     "data": {
      "text/plain": [
       "array([[2],\n       [6]])"
      ]
     },
     "execution_count": 15,
     "metadata": {},
     "output_type": "execute_result"
    }
   ],
   "source": [
    "number[:,1:2]  # 取得第1到2 列的所有行 因为是前闭后开 所以取得的是第一列"
   ]
  },
  {
   "cell_type": "code",
   "execution_count": 17,
   "metadata": {},
   "outputs": [
    {
     "data": {
      "text/plain": [
       "array([[2, 3, 4],\n       [6, 7, 8]])"
      ]
     },
     "execution_count": 17,
     "metadata": {},
     "output_type": "execute_result"
    }
   ],
   "source": [
    "number[:,1:4]"
   ]
  },
  {
   "cell_type": "code",
   "execution_count": 18,
   "metadata": {},
   "outputs": [
    {
     "data": {
      "text/plain": [
       "array([[False, False, False,  True],\n       [False, False, False, False]])"
      ]
     },
     "execution_count": 18,
     "metadata": {},
     "output_type": "execute_result"
    }
   ],
   "source": [
    "number==4  # 对number 矩阵中的每一个元素都做了判断  返回bool类型"
   ]
  },
  {
   "cell_type": "code",
   "execution_count": 19,
   "metadata": {},
   "outputs": [
    {
     "name": "stdout",
     "output_type": "stream",
     "text": [
      "[[False False False  True]\n [False False False False]]\n[4]\n"
     ]
    }
   ],
   "source": [
    "# 使用\n",
    "equal_to_four=(number==4)\n",
    "#可以将该值当做一个索引 去矩阵中做一些操作\n",
    "\n",
    "print(equal_to_four)\n",
    "print(number[equal_to_four])"
   ]
  },
  {
   "cell_type": "code",
   "execution_count": 22,
   "metadata": {},
   "outputs": [
    {
     "name": "stdout",
     "output_type": "stream",
     "text": [
      "float64\n[1. 2. 3.]\n"
     ]
    }
   ],
   "source": [
    "# 对其中元素做一个值类型的转换\n",
    "\n",
    "number=np.array(['1','2','3'])\n",
    "number=number.astype(float)\n",
    "print(number.dtype)\n",
    "print(number)"
   ]
  },
  {
   "cell_type": "code",
   "execution_count": 23,
   "metadata": {},
   "outputs": [
    {
     "name": "stdout",
     "output_type": "stream",
     "text": [
      "2.0\n1.0\n"
     ]
    }
   ],
   "source": [
    "# 求极值操作\n",
    "\n",
    "print(number.mean()) # 均值\n",
    "print(number.min())"
   ]
  },
  {
   "cell_type": "code",
   "execution_count": 24,
   "metadata": {},
   "outputs": [
    {
     "data": {
      "text/plain": [
       "array([ 30,  75, 120])"
      ]
     },
     "execution_count": 24,
     "metadata": {},
     "output_type": "execute_result"
    }
   ],
   "source": [
    "# 按行求和或 按列求和  指定维度 axis axis=0 列\n",
    "matrix=np.array([\n",
    "    [5,10,15],\n",
    "    [20,25,30],\n",
    "    [35,40,45]\n",
    "])\n",
    "matrix.sum(axis=1) # 按行加"
   ]
  },
  {
   "cell_type": "code",
   "execution_count": 26,
   "metadata": {},
   "outputs": [
    {
     "data": {
      "text/plain": [
       "array([1, 3, 5, 7, 9])"
      ]
     },
     "execution_count": 26,
     "metadata": {},
     "output_type": "execute_result"
    }
   ],
   "source": [
    "m1=np.arange(1,10,2)  # 1到10  以2 为步长\n",
    "m1"
   ]
  },
  {
   "cell_type": "code",
   "execution_count": 27,
   "metadata": {},
   "outputs": [
    {
     "data": {
      "text/plain": [
       "1"
      ]
     },
     "execution_count": 27,
     "metadata": {},
     "output_type": "execute_result"
    }
   ],
   "source": [
    "m1.ndim  # 数组维度"
   ]
  },
  {
   "cell_type": "code",
   "execution_count": 29,
   "metadata": {},
   "outputs": [
    {
     "data": {
      "text/plain": [
       "array([   0.        ,   10.1010101 ,   20.2020202 ,   30.3030303 ,\n         40.4040404 ,   50.50505051,   60.60606061,   70.70707071,\n         80.80808081,   90.90909091,  101.01010101,  111.11111111,\n        121.21212121,  131.31313131,  141.41414141,  151.51515152,\n        161.61616162,  171.71717172,  181.81818182,  191.91919192,\n        202.02020202,  212.12121212,  222.22222222,  232.32323232,\n        242.42424242,  252.52525253,  262.62626263,  272.72727273,\n        282.82828283,  292.92929293,  303.03030303,  313.13131313,\n        323.23232323,  333.33333333,  343.43434343,  353.53535354,\n        363.63636364,  373.73737374,  383.83838384,  393.93939394,\n        404.04040404,  414.14141414,  424.24242424,  434.34343434,\n        444.44444444,  454.54545455,  464.64646465,  474.74747475,\n        484.84848485,  494.94949495,  505.05050505,  515.15151515,\n        525.25252525,  535.35353535,  545.45454545,  555.55555556,\n        565.65656566,  575.75757576,  585.85858586,  595.95959596,\n        606.06060606,  616.16161616,  626.26262626,  636.36363636,\n        646.46464646,  656.56565657,  666.66666667,  676.76767677,\n        686.86868687,  696.96969697,  707.07070707,  717.17171717,\n        727.27272727,  737.37373737,  747.47474747,  757.57575758,\n        767.67676768,  777.77777778,  787.87878788,  797.97979798,\n        808.08080808,  818.18181818,  828.28282828,  838.38383838,\n        848.48484848,  858.58585859,  868.68686869,  878.78787879,\n        888.88888889,  898.98989899,  909.09090909,  919.19191919,\n        929.29292929,  939.39393939,  949.49494949,  959.5959596 ,\n        969.6969697 ,  979.7979798 ,  989.8989899 , 1000.        ])"
      ]
     },
     "execution_count": 29,
     "metadata": {},
     "output_type": "execute_result"
    }
   ],
   "source": [
    "np.linspace(0,1000,100) # 以0 为起点  2*pi 为终点 取100个\n"
   ]
  },
  {
   "cell_type": "markdown",
   "metadata": {},
   "source": [
    "使用tile扩展数组 横向 纵向扩展\n",
    "\n",
    "括号中的3,5 代表行变成3 倍 列变成5倍"
   ]
  },
  {
   "cell_type": "code",
   "execution_count": 33,
   "metadata": {},
   "outputs": [
    {
     "name": "stdout",
     "output_type": "stream",
     "text": [
      "[ 0 10 20 30]\n[[ 0 10 20 30  0 10 20 30  0 10 20 30  0 10 20 30  0 10 20 30]\n [ 0 10 20 30  0 10 20 30  0 10 20 30  0 10 20 30  0 10 20 30]\n [ 0 10 20 30  0 10 20 30  0 10 20 30  0 10 20 30  0 10 20 30]]\n"
     ]
    }
   ],
   "source": [
    "a=np.arange(0,40,10)\n",
    "print(a)\n",
    "b=np.tile(a,(3,5))\n",
    "print(b)"
   ]
  },
  {
   "cell_type": "markdown",
   "metadata": {},
   "source": [
    "排序\n",
    "sort为排序函数 axis=1  表示按横轴进行排序\n",
    "argsort 求值得索引\n",
    "\n",
    "可以得出数值大小的索引 比如说 4，3，1，2 的索引就是2，3，1，0(1在index=2 的位置上  以此类推)"
   ]
  },
  {
   "cell_type": "code",
   "execution_count": 35,
   "metadata": {},
   "outputs": [
    {
     "name": "stdout",
     "output_type": "stream",
     "text": [
      "[[4 3 5]\n [1 2 1]]\n-----------\n[[3 4 5]\n [1 1 2]]\n-------\n[2 3 1 0]\n---------\n[1 2 3 4]\n"
     ]
    }
   ],
   "source": [
    "a=np.array([\n",
    "    [4,3,5],\n",
    "    [1,2,1]\n",
    "])\n",
    "print(a)\n",
    "print('-----------')\n",
    "b=np.sort(a,axis=1)\n",
    "print(b)\n",
    "\n",
    "a=np.array([4,3,1,2])\n",
    "j=np.argsort(a)\n",
    "print('-------')\n",
    "print(j)\n",
    "print('---------')\n",
    "print(a[j])"
   ]
  },
  {
   "cell_type": "code",
   "execution_count": null,
   "metadata": {},
   "outputs": [],
   "source": []
  }
 ],
 "metadata": {
  "kernelspec": {
   "display_name": "Python 2",
   "language": "python",
   "name": "python2"
  },
  "language_info": {
   "codemirror_mode": {
    "name": "ipython",
    "version": 2
   },
   "file_extension": ".py",
   "mimetype": "text/x-python",
   "name": "python",
   "nbconvert_exporter": "python",
   "pygments_lexer": "ipython2",
   "version": "2.7.6"
  }
 },
 "nbformat": 4,
 "nbformat_minor": 0
}
