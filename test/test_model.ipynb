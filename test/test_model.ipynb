{
 "cells": [
  {
   "cell_type": "code",
   "execution_count": 1,
   "metadata": {
    "collapsed": true
   },
   "outputs": [],
   "source": [
    "import numpy as np\n",
    "import pandas as pd\n",
    "import matplotlib.pyplot as plt\n",
    "\n",
    "%matplotlib inline"
   ]
  },
  {
   "cell_type": "code",
   "execution_count": 2,
   "metadata": {},
   "outputs": [
    {
     "data": {
      "text/plain": [
       "(40787, 55)"
      ]
     },
     "execution_count": 2,
     "metadata": {},
     "output_type": "execute_result"
    }
   ],
   "source": [
    "data=pd.read_csv('bank_done.csv')\n",
    "data.shape"
   ]
  },
  {
   "cell_type": "markdown",
   "metadata": {},
   "source": [
    "### 查看样本分布 并画图表示"
   ]
  },
  {
   "cell_type": "code",
   "execution_count": 17,
   "metadata": {},
   "outputs": [
    {
     "name": "stdout",
     "output_type": "stream",
     "text": [
      "正样本个数： 36193\n负样本个数： 4594\n"
     ]
    },
    {
     "data": {
      "image/png": "[encoded data removed]",
      "text/plain": [
       "<Figure size 504x360 with 1 Axes>"
      ]
     },
     "metadata": {},
     "output_type": "display_data"
    }
   ],
   "source": [
    "import seaborn as sns\n",
    "plt.figure(figsize=(7,5))\n",
    "\n",
    "sns.countplot(x='y',data=data)\n",
    "plt.title('distribution-y')\n",
    "plt.xlabel('Y')\n",
    "plt.ylabel('Count')\n",
    "\n",
    "print(\"正样本个数：\",data[data['y']==1]['y'].count())\n",
    "print(\"负样本个数：\",data[data['y']==0]['y'].count())"
   ]
  },
  {
   "cell_type": "markdown",
   "metadata": {},
   "source": [
    "##  过采样\n",
    "先划分数据\n",
    "\n",
    "基于train 做过采样  test 不动  模型测试也是使用原始划分的test"
   ]
  },
  {
   "cell_type": "code",
   "execution_count": 18,
   "metadata": {},
   "outputs": [],
   "source": [
    "def upData(x_data,y_data):\n",
    "    # SMOTE 算法,使用imblearn中的over_sampling.SMOTE\n",
    "    from imblearn.over_sampling import SMOTE\n",
    "    # 建立SMOTE对象\n",
    "    oversampler = SMOTE(random_state=0)\n",
    "    # 生成数据，使得正负样本平衡\n",
    "    x_data, y_data = oversampler.fit_sample(x_data, y_data)\n",
    "    # 返回生成后的数据\n",
    "    return (x_data, y_data)"
   ]
  },
  {
   "cell_type": "code",
   "execution_count": 19,
   "metadata": {},
   "outputs": [
    {
     "name": "stdout",
     "output_type": "stream",
     "text": [
      "(28550, 54) (28550, 1)\n"
     ]
    },
    {
     "name": "stderr",
     "output_type": "stream",
     "text": [
      "/Users/crq/anaconda3/lib/python3.6/site-packages/sklearn/utils/validation.py:578: DataConversionWarning: A column-vector y was passed when a 1d array was expected. Please change the shape of y to (n_samples, ), for example using ravel().\n  y = column_or_1d(y, warn=True)\n/Users/crq/anaconda3/lib/python3.6/site-packages/sklearn/utils/validation.py:578: DataConversionWarning: A column-vector y was passed when a 1d array was expected. Please change the shape of y to (n_samples, ), for example using ravel().\n  y = column_or_1d(y, warn=True)\n"
     ]
    },
    {
     "name": "stdout",
     "output_type": "stream",
     "text": [
      "25323 25323\n<class 'pandas.core.frame.DataFrame'> <class 'pandas.core.frame.DataFrame'>\n"
     ]
    }
   ],
   "source": [
    "from sklearn.model_selection import train_test_split\n",
    "\n",
    "X=data.loc[:,data.columns!='y']\n",
    "y=data.loc[:,data.columns=='y']\n",
    "\n",
    "# 先对原始数据集做一个切分\n",
    "x_train,x_test,y_train,y_test=train_test_split(X,y,test_size=0.3,random_state=0)\n",
    "print(x_train.shape,y_train.shape)\n",
    "# 再对过采样数据集做一个切分\n",
    "# 正采样完 再进行数据集划分   所得到的就是基于采样后的数据\n",
    "x_data, y_data = upData(x_train, y_train)  # 正采样应该只对训练集作用  不能影响测试集\n",
    "\n",
    "\n",
    "print(len(x_data[y_data[:]==1]),len(y_data[y_data[:]==0]))\n",
    "print(type(X),type(y))"
   ]
  },
  {
   "cell_type": "markdown",
   "metadata": {},
   "source": [
    "## planB  先过采样 再分割数据集预测  即均是基于过采样后的数据的"
   ]
  },
  {
   "cell_type": "code",
   "execution_count": 23,
   "metadata": {},
   "outputs": [
    {
     "name": "stderr",
     "output_type": "stream",
     "text": [
      "/Users/crq/anaconda3/lib/python3.6/site-packages/sklearn/utils/validation.py:578: DataConversionWarning: A column-vector y was passed when a 1d array was expected. Please change the shape of y to (n_samples, ), for example using ravel().\n  y = column_or_1d(y, warn=True)\n"
     ]
    }
   ],
   "source": [
    "x_data,y_data=upData(X,y)\n",
    "x_train,x_test,y_train,y_test=train_test_split(x_data,y_data,test_size=0.3,random_state=0)"
   ]
  },
  {
   "cell_type": "markdown",
   "metadata": {},
   "source": [
    "## 欠采样\n",
    "\n",
    "对所有数据进行欠采样 由于欠采样后数据变少\n",
    "\n",
    "所以在欠采样前 先对数据进行划分\n",
    "\n",
    "欠采样后 再划分  得出训练集 模型训练基于欠采样后的训练集\n",
    "\n",
    "模型测试基于原始数据的测试集"
   ]
  },
  {
   "cell_type": "code",
   "execution_count": 44,
   "metadata": {},
   "outputs": [],
   "source": [
    "# import numpy as np\n",
    "def downData(x_data,y_data):\n",
    "    # 采用欠采样算法  代表算法 easyEnsemble \n",
    "    # 通过对原始的数据集进行随机的下采样实现对数据集进行集成 n_subset 控制子集个数\n",
    "    from imblearn.ensemble import EasyEnsemble\n",
    "    downsample=EasyEnsemble(random_state=0)\n",
    "    x_data,y_data=downsample.fit_sample(x_data,y_data)\n",
    "    return x_data[0],y_data[0]"
   ]
  },
  {
   "cell_type": "code",
   "execution_count": 45,
   "metadata": {},
   "outputs": [
    {
     "name": "stderr",
     "output_type": "stream",
     "text": [
      "/Users/crq/anaconda3/lib/python3.6/site-packages/sklearn/ensemble/weight_boosting.py:29: DeprecationWarning: numpy.core.umath_tests is an internal NumPy module and should not be imported. It will be removed in a future NumPy release.\n  from numpy.core.umath_tests import inner1d\n"
     ]
    },
    {
     "name": "stdout",
     "output_type": "stream",
     "text": [
      "3211 3220\n(9188, 54) (9188,)\n"
     ]
    }
   ],
   "source": [
    "# 先对原始数据集做一个切分\n",
    "x_train,x_test,y_train,y_test=train_test_split(X,y,test_size=0.3,random_state=0)\n",
    "# 下采样  由于下采样后数据集变少 所以还是训练集用这个  测试集用原来的\n",
    "x_data, y_data = downData(X, y)\n",
    "x_train_d,x_test_d,y_train_d,y_test_d\\\n",
    "    =train_test_split(x_data,y_data,test_size=0.3,random_state=0)\n",
    "print(len(y_train_d[y_train_d[:]==1]),len(y_train_d[y_train_d[:]==0]))\n",
    "print(x_data.shape,y_data.shape)"
   ]
  },
  {
   "cell_type": "markdown",
   "metadata": {},
   "source": [
    "## LR"
   ]
  },
  {
   "cell_type": "code",
   "execution_count": 20,
   "metadata": {},
   "outputs": [
    {
     "name": "stdout",
     "output_type": "stream",
     "text": [
      "模型评估：\nF1 score: 0.9230319563522993\nRecall: 0.871573137074517\nPrecision: 0.9809484365293021\nAccuracy: 0.8708833864509276\n             precision    recall  f1-score   support\n\n          0       0.46      0.87      0.60      1367\n          1       0.98      0.87      0.92     10870\n\navg / total       0.92      0.87      0.89     12237\n\n"
     ]
    }
   ],
   "source": [
    "from sklearn.linear_model import LogisticRegression\n",
    "from sklearn.metrics import accuracy_score,confusion_matrix,classification_report,recall_score,precision_score,f1_score\n",
    "\n",
    "lr=LogisticRegression()\n",
    "lr.fit(x_data,y_data)\n",
    "\n",
    "y_pred=lr.predict(x_test)\n",
    "\n",
    "print(\"模型评估：\")\n",
    "print(\"F1 score:\",f1_score(y_test,y_pred))\n",
    "print(\"Recall:\",recall_score(y_test,y_pred))\n",
    "print(\"Precision:\",precision_score(y_test,y_pred))\n",
    "print(\"Accuracy:\",accuracy_score(y_test,y_pred))\n",
    "print(classification_report(y_test,y_pred))"
   ]
  },
  {
   "cell_type": "markdown",
   "metadata": {},
   "source": [
    "## 判断是否过拟合\n",
    "learn curse 学习曲线 查看在训练集和测试集上的拟合状态 判断是否过拟合\n",
    "\n",
    "过拟合: 训练集上表现好 测试集上不好\n",
    "\n",
    "欠拟合: 欠拟合（训练集和测试集的score都不高）"
   ]
  },
  {
   "cell_type": "code",
   "execution_count": 7,
   "metadata": {},
   "outputs": [
    {
     "name": "stdout",
     "output_type": "stream",
     "text": [
      "<class 'numpy.ndarray'> <class 'numpy.ndarray'>\n"
     ]
    },
    {
     "name": "stderr",
     "output_type": "stream",
     "text": [
      "/Users/crq/anaconda3/lib/python3.6/site-packages/ipykernel_launcher.py:2: FutureWarning: Method .as_matrix will be removed in a future version. Use .values instead.\n  \n/Users/crq/anaconda3/lib/python3.6/site-packages/ipykernel_launcher.py:3: FutureWarning: Method .as_matrix will be removed in a future version. Use .values instead.\n  This is separate from the ipykernel package so we can avoid doing imports until\n"
     ]
    }
   ],
   "source": [
    "\n",
    "X1=X.as_matrix()\n",
    "y1=y.as_matrix()\n",
    "print(type(X1),type(y1))\n"
   ]
  },
  {
   "cell_type": "code",
   "execution_count": null,
   "metadata": {},
   "outputs": [
    {
     "name": "stdout",
     "output_type": "stream",
     "text": [
      "<class 'numpy.ndarray'> <class 'numpy.ndarray'>\n"
     ]
    },
    {
     "name": "stderr",
     "output_type": "stream",
     "text": [
      "/Users/crq/anaconda3/lib/python3.6/site-packages/ipykernel_launcher.py:2: FutureWarning: Method .as_matrix will be removed in a future version. Use .values instead.\n  \n/Users/crq/anaconda3/lib/python3.6/site-packages/ipykernel_launcher.py:3: FutureWarning: Method .as_matrix will be removed in a future version. Use .values instead.\n  This is separate from the ipykernel package so we can avoid doing imports until\n"
     ]
    }
   ],
   "source": [
    "\n",
    "from __future__ import print_function\n",
    "from sklearn.model_selection import  learning_curve\n",
    "from sklearn.datasets import load_digits\n",
    "from sklearn.svm import SVC\n",
    "import matplotlib.pyplot as plt\n",
    "import numpy as np\n",
    "'''\n",
    "digits = load_digits()\n",
    "X = digits.data\n",
    "y = digits.target\n",
    "'''\n",
    "train_sizes, train_loss, test_loss= learning_curve(\n",
    "        SVC(gamma=0.01), X1, y1, cv=10, scoring='mean_squared_error',\n",
    "        train_sizes=[]\n",
    "        )\n",
    "'''\n",
    "train_loss_mean = -np.mean(train_loss, axis=1)\n",
    "test_loss_mean = -np.mean(test_loss, axis=1)\n",
    "\n",
    "plt.plot(train_sizes, train_loss_mean, 'o-', color=\"r\",\n",
    "             label=\"Training\")\n",
    "plt.plot(train_sizes, test_loss_mean, 'o-', color=\"g\",\n",
    "             label=\"Cross-validation\")\n",
    "\n",
    "plt.xlabel(\"Training examples\")\n",
    "plt.ylabel(\"Loss\")\n",
    "plt.legend(loc=\"best\")\n",
    "plt.show()\n",
    "'''\n"
   ]
  },
  {
   "cell_type": "code",
   "execution_count": 12,
   "metadata": {},
   "outputs": [],
   "source": [
    "from sklearn.model_selection import learning_curve\n",
    "# np.linspace  参数： start stop num 通过置顶范围和元素数量来创建数组\n",
    "'''\n",
    "ylim: tuple 格式的(ymin,ymax) 设定图像中纵坐标的最低点和最高点\n",
    "train_size: 将用于的训练样本的相对或绝对数量\n",
    "         产生学习曲线。 \n",
    "verbose: 详细\n",
    "'''\n",
    "def plot_learning_curve(estimator,title,X,y,ylim=None,cv=None,n_jobs=1,\n",
    "               train_sizes=np.linspace(.05,1.,20),verbose=0,plot=True):\n",
    "    train_sizes,train_scores,test_scores=learning_curve(\n",
    "        estimator,X,y,cv=cv,n_jobs=n_jobs,train_sizes=train_sizes,verbose=verbose\n",
    "    )\n",
    "    train_scores_mean=np.mean(train_scores,axis=1)\n",
    "    train_scores_std=np.std(train_scores,axis=1)\n",
    "    test_scores_mean=np.mean(test_scores,axis=1)\n",
    "    test_scores_std=np.std(test_scores,axis=1)\n",
    "    if plot:\n",
    "        plt.figure()\n",
    "        plt.title(title)\n",
    "        if ylim is not None:\n",
    "            plt.ylim(*ylim)\n",
    "        plt.xlabel(u\"Training examples\")\n",
    "        plt.ylable(u\"Score\")\n",
    "        plt.gca().invert_yaxis()\n",
    "        plt.grid()\n",
    "        \n",
    "        plt.fill_between(train_sizes,train_scores_mean-train_scores_std,train_scores_mean+train_scores_std,\n",
    "                         alpha=0.1,color='b')\n",
    "        plt.fill_between(train_sizes,test_scores_mean-test_scores_std,test_scores_mean+test_scores_std,\n",
    "                         alpha=0.1,color='r')\n",
    "        \n",
    "        plt.plot(train_sizes,train_scores_mean,'o-',color='b',label=u\"Training score\")\n",
    "        plt.plot(train_sizes,test_scores_mean,'o-',color='r',label=u\"Cross-validation score\")\n",
    "        \n",
    "        plt.legend(loc=\"best\")\n",
    "        \n",
    "        plt.draw()\n",
    "        plt.gca().invert_yaxis()\n",
    "        plt.show()\n",
    "        cv = ShuffleSplit(n_splits=100, test_size=0.2, random_state=0)\n",
    "        midpoint=((train_scores_mean[-1]+train_scores_std[-1])+(test_scores_mean[-1]-train_scores_std[-1]))/2\n",
    "        diff=(train_scores_mean[-1]+train_scores_std[-1])\n",
    "        return midpoint,diff\n",
    "\n",
    "plot_learning_curve(lr,\"Learning Curves\",X.as_matrix(),y.as_matrix())\n"
   ]
  },
  {
   "cell_type": "markdown",
   "metadata": {},
   "source": [
    "## 绘制学习曲线 learning_curve"
   ]
  },
  {
   "cell_type": "code",
   "execution_count": 9,
   "metadata": {},
   "outputs": [
    {
     "name": "stdout",
     "output_type": "stream",
     "text": [
      "Automatically created module for IPython interactive environment\n"
     ]
    },
    {
     "name": "stderr",
     "output_type": "stream",
     "text": [
      "/Users/crq/anaconda3/lib/python3.6/site-packages/sklearn/utils/validation.py:578: DataConversionWarning: A column-vector y was passed when a 1d array was expected. Please change the shape of y to (n_samples, ), for example using ravel().\n  y = column_or_1d(y, warn=True)\n"
     ]
    },
    {
     "name": "stderr",
     "output_type": "stream",
     "text": [
      "/Users/crq/anaconda3/lib/python3.6/site-packages/sklearn/utils/validation.py:578: DataConversionWarning: A column-vector y was passed when a 1d array was expected. Please change the shape of y to (n_samples, ), for example using ravel().\n  y = column_or_1d(y, warn=True)\n"
     ]
    },
    {
     "name": "stderr",
     "output_type": "stream",
     "text": [
      "/Users/crq/anaconda3/lib/python3.6/site-packages/sklearn/utils/validation.py:578: DataConversionWarning: A column-vector y was passed when a 1d array was expected. Please change the shape of y to (n_samples, ), for example using ravel().\n  y = column_or_1d(y, warn=True)\n"
     ]
    },
    {
     "name": "stderr",
     "output_type": "stream",
     "text": [
      "/Users/crq/anaconda3/lib/python3.6/site-packages/sklearn/utils/validation.py:578: DataConversionWarning: A column-vector y was passed when a 1d array was expected. Please change the shape of y to (n_samples, ), for example using ravel().\n  y = column_or_1d(y, warn=True)\n"
     ]
    },
    {
     "data": {
      "image/png": "[encoded data removed]",
      "text/plain": [
       "<Figure size 432x288 with 1 Axes>"
      ]
     },
     "metadata": {},
     "output_type": "display_data"
    }
   ],
   "source": [
    "print(__doc__)\n",
    "\n",
    "import numpy as np\n",
    "import matplotlib.pyplot as plt\n",
    "from sklearn.naive_bayes import GaussianNB\n",
    "from sklearn.svm import SVC\n",
    "from sklearn.datasets import load_digits\n",
    "from sklearn.model_selection import learning_curve\n",
    "from sklearn.model_selection import ShuffleSplit\n",
    "\n",
    "\n",
    "def plot_learning_curve(estimator, title, X, y, ylim=None, cv=None,\n",
    "                        n_jobs=None, train_sizes=np.linspace(.1, 1.0, 5)):\n",
    "    \"\"\"\n",
    "    Generate a simple plot of the test and training learning curve.\n",
    "\n",
    "    Parameters\n",
    "    ----------\n",
    "    estimator : object type that implements the \"fit\" and \"predict\" methods\n",
    "        An object of that type which is cloned for each validation.\n",
    "\n",
    "    title : string\n",
    "        Title for the chart.\n",
    "\n",
    "    X : array-like, shape (n_samples, n_features)\n",
    "        Training vector, where n_samples is the number of samples and\n",
    "        n_features is the number of features.\n",
    "\n",
    "    y : array-like, shape (n_samples) or (n_samples, n_features), optional\n",
    "        Target relative to X for classification or regression;\n",
    "        None for unsupervised learning.\n",
    "\n",
    "    ylim : tuple, shape (ymin, ymax), optional\n",
    "        Defines minimum and maximum yvalues plotted.\n",
    "\n",
    "    cv : int, cross-validation generator or an iterable, optional\n",
    "        Determines the cross-validation splitting strategy.\n",
    "        Possible inputs for cv are:\n",
    "          - None, to use the default 3-fold cross-validation,\n",
    "          - integer, to specify the number of folds.\n",
    "          - :term:`CV splitter`,\n",
    "          - An iterable yielding (train, test) splits as arrays of indices.\n",
    "\n",
    "        For integer/None inputs, if ``y`` is binary or multiclass,\n",
    "        :class:`StratifiedKFold` used. If the estimator is not a classifier\n",
    "        or if ``y`` is neither binary nor multiclass, :class:`KFold` is used.\n",
    "\n",
    "        Refer :ref:`User Guide <cross_validation>` for the various\n",
    "        cross-validators that can be used here.\n",
    "\n",
    "    n_jobs : int or None, optional (default=None)\n",
    "        Number of jobs to run in parallel.\n",
    "        ``None`` means 1 unless in a :obj:`joblib.parallel_backend` context.\n",
    "        ``-1`` means using all processors. See :term:`Glossary <n_jobs>`\n",
    "        for more details.\n",
    "\n",
    "    train_sizes : array-like, shape (n_ticks,), dtype float or int\n",
    "        Relative or absolute numbers of training examples that will be used to\n",
    "        generate the learning curve. If the dtype is float, it is regarded as a\n",
    "        fraction of the maximum size of the training set (that is determined\n",
    "        by the selected validation method), i.e. it has to be within (0, 1].\n",
    "        Otherwise it is interpreted as absolute sizes of the training sets.\n",
    "        Note that for classification the number of samples usually have to\n",
    "        be big enough to contain at least one sample from each class.\n",
    "        (default: np.linspace(0.1, 1.0, 5))\n",
    "    \"\"\"\n",
    "    plt.figure()\n",
    "    plt.title(title)\n",
    "    if ylim is not None:\n",
    "        plt.ylim(*ylim)\n",
    "    plt.xlabel(\"Training examples\")\n",
    "    plt.ylabel(\"Score\")\n",
    "    train_sizes, train_scores, test_scores = learning_curve(\n",
    "        estimator, X, y, cv=cv, n_jobs=n_jobs, train_sizes=train_sizes)\n",
    "    train_scores_mean = np.mean(train_scores, axis=1)\n",
    "    train_scores_std = np.std(train_scores, axis=1)\n",
    "    test_scores_mean = np.mean(test_scores, axis=1)\n",
    "    test_scores_std = np.std(test_scores, axis=1)\n",
    "    plt.grid()\n",
    "\n",
    "    plt.fill_between(train_sizes, train_scores_mean - train_scores_std,\n",
    "                     train_scores_mean + train_scores_std, alpha=0.1,\n",
    "                     color=\"r\")\n",
    "    plt.fill_between(train_sizes, test_scores_mean - test_scores_std,\n",
    "                     test_scores_mean + test_scores_std, alpha=0.1, color=\"g\")\n",
    "    plt.plot(train_sizes, train_scores_mean, 'o-', color=\"r\",\n",
    "             label=\"Training score\")\n",
    "    plt.plot(train_sizes, test_scores_mean, 'o-', color=\"g\",\n",
    "             label=\"Cross-validation score\")\n",
    "\n",
    "    plt.legend(loc=\"best\")\n",
    "    return plt\n",
    "\n",
    "\n",
    "title = \"Learning Curves (Naive Bayes)\"\n",
    "# Cross validation with 100 iterations to get smoother mean test and train\n",
    "# score curves, each time with 20% data randomly selected as a validation set.\n",
    "# SVC is more expensive so we do a lower number of CV iterations:\n",
    "cv = ShuffleSplit(n_splits=10, test_size=0.2, random_state=0)\n",
    "#estimator = SVC(gamma=0.001)\n",
    "estimator=lr\n",
    "plot_learning_curve(estimator, title, X1, y1, (0.7, 1.01), cv=cv, n_jobs=4)\n",
    "\n",
    "plt.show()"
   ]
  },
  {
   "cell_type": "markdown",
   "metadata": {},
   "source": [
    "学习曲线主要通过 限制数据集大小  来判断模型状态\n",
    "可以看到模型效果良好  并未处于过拟合还是欠拟合的状态"
   ]
  },
  {
   "cell_type": "markdown",
   "metadata": {},
   "source": [
    "## 使用交叉验证 获得最好的参数\n",
    "\n",
    "逻辑回归  主要调整 参数 是C 惩罚项系数  及 penalty  正则化方式  \n",
    "\n",
    "C：正则化强度的反，值越小正则化强度越大\n",
    "\n",
    "## cross_val_score: 对数据集进行制定次数的交叉验证 并为每次验证效果评测"
   ]
  },
  {
   "cell_type": "code",
   "execution_count": 8,
   "metadata": {},
   "outputs": [
    {
     "name": "stdout",
     "output_type": "stream",
     "text": [
      "0.8725099986318406\n"
     ]
    },
    {
     "name": "stdout",
     "output_type": "stream",
     "text": [
      "0.8793551024764874\n"
     ]
    },
    {
     "name": "stdout",
     "output_type": "stream",
     "text": [
      "0.8810150127983023\n"
     ]
    },
    {
     "name": "stdout",
     "output_type": "stream",
     "text": [
      "0.881019782668319\n"
     ]
    },
    {
     "name": "stdout",
     "output_type": "stream",
     "text": [
      "0.8809921740946436\n"
     ]
    },
    {
     "name": "stdout",
     "output_type": "stream",
     "text": [
      "0.8810064979495424\n"
     ]
    },
    {
     "data": {
      "image/png": "[encoded data removed]",
      "text/plain": [
       "<Figure size 432x288 with 1 Axes>"
      ]
     },
     "metadata": {},
     "output_type": "display_data"
    }
   ],
   "source": [
    "from sklearn.model_selection import cross_val_score\n",
    "c_params_range=[0.01,0.1,1,10,100,1000]\n",
    "cv_scores=[]\n",
    "\n",
    "for c in c_params_range:\n",
    "    lr=LogisticRegression(C=c,penalty='l1')\n",
    "    scores=cross_val_score(lr,x_data,y_data,cv=5,scoring='f1')\n",
    "    cv_scores.append(scores.mean())# 10次交叉验证  取平均值作为这次训练的score\n",
    "    print(scores.mean())\n",
    "\n",
    "plt.plot(c_params_range,cv_scores)\n",
    "\n",
    "plt.xlabel('c')\n",
    "plt.ylabel('f1')\n",
    "plt.show()"
   ]
  },
  {
   "cell_type": "markdown",
   "metadata": {},
   "source": [
    "可以看到  c=1 时 对应的模型效果最好\n",
    "验证l2 效果好 还是l1 效果好"
   ]
  },
  {
   "cell_type": "code",
   "execution_count": 9,
   "metadata": {},
   "outputs": [
    {
     "name": "stdout",
     "output_type": "stream",
     "text": [
      "0.8768748514945708\n"
     ]
    },
    {
     "name": "stdout",
     "output_type": "stream",
     "text": [
      "0.8796055541382396\n"
     ]
    },
    {
     "name": "stdout",
     "output_type": "stream",
     "text": [
      "0.8810110670177165\n"
     ]
    },
    {
     "name": "stdout",
     "output_type": "stream",
     "text": [
      "0.8810555717670386\n"
     ]
    },
    {
     "name": "stdout",
     "output_type": "stream",
     "text": [
      "0.8811084738114575\n"
     ]
    },
    {
     "name": "stdout",
     "output_type": "stream",
     "text": [
      "0.8811084738114575\n"
     ]
    },
    {
     "data": {
      "image/png": "[encoded data removed]",
      "text/plain": [
       "<Figure size 432x288 with 1 Axes>"
      ]
     },
     "metadata": {},
     "output_type": "display_data"
    }
   ],
   "source": [
    "from sklearn.model_selection import cross_val_score\n",
    "c_params_range=[0.01,0.1,1,10,100,1000]\n",
    "cv_scores=[]\n",
    "\n",
    "for c in c_params_range:\n",
    "    lr=LogisticRegression(C=c,penalty='l2')\n",
    "    scores=cross_val_score(lr,x_data,y_data,cv=5,scoring='f1')\n",
    "    cv_scores.append(scores.mean())# 10次交叉验证  取平均值作为这次训练的score\n",
    "    print(scores.mean())\n",
    "\n",
    "plt.plot(c_params_range,cv_scores)\n",
    "\n",
    "plt.xlabel('c')\n",
    "plt.ylabel('f1')\n",
    "plt.show()\n",
    "    "
   ]
  },
  {
   "cell_type": "markdown",
   "metadata": {},
   "source": [
    "其实整体来说没有很大区别  但看来貌似是 l2 的效果更好一点  且C=100  对应效果更好"
   ]
  },
  {
   "cell_type": "markdown",
   "metadata": {},
   "source": [
    "### 尝试调整threadhold  看看其对模型的影响"
   ]
  },
  {
   "cell_type": "code",
   "execution_count": 10,
   "metadata": {},
   "outputs": [],
   "source": [
    "# 定义混淆矩阵回执函数\n",
    "\n",
    "import itertools\n",
    "def plot_confusion_matrix(conf_mat,classes,title='Confusion Matrix',\n",
    "                          cmap=plt.cm.Blues):\n",
    "    plt.imshow(conf_mat,interpolation='nearest',cmap=cmap)\n",
    "    plt.title(title)\n",
    "    plt.colorbar()\n",
    "    tick_marks=np.arange(len(classes))\n",
    "    # 横轴刻度值  认为设置刻度\n",
    "    plt.xticks(tick_marks,classes,rotation=0)\n",
    "    plt.yticks(tick_marks,classes)\n",
    "    \n",
    "    thresh=conf_mat.max()/2\n",
    "    for i,j in itertools.product(range(conf_mat.shape[0]),range(conf_mat.shape[1])):\n",
    "        plt.text(j,i,conf_mat[i,j],horizontalalignment='center', color='white' if conf_mat[i,j] > thresh else 'black')\n",
    "   \n",
    "    plt.tight_layout()\n",
    "    plt.xlabel('Predicted Label')\n",
    "    plt.ylabel('True Label')"
   ]
  },
  {
   "cell_type": "code",
   "execution_count": 11,
   "metadata": {},
   "outputs": [
    {
     "name": "stderr",
     "output_type": "stream",
     "text": [
      "/Users/crq/anaconda3/lib/python3.6/site-packages/sklearn/utils/validation.py:578: DataConversionWarning: A column-vector y was passed when a 1d array was expected. Please change the shape of y to (n_samples, ), for example using ravel().\n  y = column_or_1d(y, warn=True)\n"
     ]
    },
    {
     "name": "stdout",
     "output_type": "stream",
     "text": [
      "f1: 0.9437712492372069\nf1: 0.946033696033696\n"
     ]
    },
    {
     "name": "stdout",
     "output_type": "stream",
     "text": [
      "f1: 0.9478429985855729\n"
     ]
    },
    {
     "name": "stdout",
     "output_type": "stream",
     "text": [
      "f1: 0.9499621262754534\nf1: 0.9505484625067433\n"
     ]
    },
    {
     "name": "stdout",
     "output_type": "stream",
     "text": [
      "f1: 0.9496252555076086\nf1: 0.9480771004334594\n"
     ]
    },
    {
     "name": "stdout",
     "output_type": "stream",
     "text": [
      "f1: 0.9381735677821894\nf1: 0.912395061728395\n"
     ]
    },
    {
     "data": {
      "image/png": "[encoded data removed]",
      "text/plain": [
       "<Figure size 720x720 with 18 Axes>"
      ]
     },
     "metadata": {},
     "output_type": "display_data"
    }
   ],
   "source": [
    "from sklearn.metrics import confusion_matrix,roc_curve\n",
    "lr=LogisticRegression(C=10)\n",
    "lr.fit(x_train,y_train)\n",
    "y_pred_proba=lr.predict_proba(x_test)\n",
    "\n",
    "threadholds=[0.1,0.2,0.3,0.4,0.5,0.6,0.7,0.8,0.9]\n",
    "\n",
    "plt.figure(figsize=[10,10])\n",
    "\n",
    "j=1\n",
    "for threadhold in threadholds:\n",
    "    y_pred_f1=y_pred_proba[:,1]>threadhold\n",
    "    \n",
    "    plt.subplot(3,3,j)\n",
    "    j+=1\n",
    "    cnf_matrix=confusion_matrix(y_test,y_pred_f1)\n",
    "    np.set_printoptions(precision=2) # 设置小数点后的精度\n",
    "    \n",
    "    recall=cnf_matrix[1,1]/(cnf_matrix[1,0]+cnf_matrix[1,1])\n",
    "    precision=cnf_matrix[1,1]/(cnf_matrix[0,1]+cnf_matrix[1,1])\n",
    "    f1=2*precision*recall/(precision+recall)\n",
    "    print(\"f1:\",f1)\n",
    "    classes=[0,1]\n",
    "    plot_confusion_matrix(cnf_matrix,classes,title='Thredhold>=%f'%threadhold)"
   ]
  },
  {
   "cell_type": "markdown",
   "metadata": {},
   "source": [
    "可以看到 threadhold 还是0.5 最好"
   ]
  },
  {
   "cell_type": "markdown",
   "metadata": {},
   "source": [
    "重新使用最好的参数预测"
   ]
  },
  {
   "cell_type": "code",
   "execution_count": 21,
   "metadata": {},
   "outputs": [
    {
     "name": "stdout",
     "output_type": "stream",
     "text": [
      "It took 1 seconds to train the model\n\n模型评估：\nF1 score: 0.9231293842556507\nRecall: 0.8716651333946642\nPrecision: 0.9810519776351212\nAccuracy: 0.8710468252022554\n             precision    recall  f1-score   support\n\n          0       0.46      0.87      0.60      1367\n          1       0.98      0.87      0.92     10870\n\navg / total       0.92      0.87      0.89     12237\n\n"
     ]
    }
   ],
   "source": [
    "import time\n",
    "lr=LogisticRegression(C=100,penalty='l2',tol=1e-6)\n",
    "start_time=time.time()\n",
    "lr.fit(x_data,y_data)\n",
    "end_time=time.time()\n",
    "y_pred=lr.predict(x_test)\n",
    "\n",
    "print(\"It took %d seconds to train the model\"%(end_time-start_time))\n",
    "print()\n",
    "\n",
    "print(\"模型评估：\")\n",
    "print(\"F1 score:\",f1_score(y_test,y_pred))\n",
    "print(\"Recall:\",recall_score(y_test,y_pred))\n",
    "print(\"Precision:\",precision_score(y_test,y_pred))\n",
    "print(\"Accuracy:\",accuracy_score(y_test,y_pred))\n",
    "print(classification_report(y_test,y_pred))"
   ]
  },
  {
   "cell_type": "markdown",
   "metadata": {},
   "source": [
    "### 在本数据集上差别不大 但是还是优化了"
   ]
  },
  {
   "cell_type": "markdown",
   "metadata": {},
   "source": [
    "绘制ROC AUC 曲线"
   ]
  },
  {
   "cell_type": "code",
   "execution_count": 22,
   "metadata": {},
   "outputs": [
    {
     "data": {
      "image/png": "[encoded data removed]",
      "text/plain": [
       "<Figure size 432x288 with 1 Axes>"
      ]
     },
     "metadata": {},
     "output_type": "display_data"
    }
   ],
   "source": [
    "from sklearn.metrics import roc_curve,auc\n",
    "fpr,tpr,threadholds=roc_curve(y_test,y_pred)\n",
    "\n",
    "roc_auc=auc(fpr,tpr) # auc 是roc 曲线下夹面积\n",
    "\n",
    "plt.title('Receiver Operating Characteristic')\n",
    "plt.plot(fpr,tpr,'b',label='AUC=%0.2f' % roc_auc) # label 定义要显示的标签\n",
    "plt.legend(loc='lower right') #  legend 显示图中标签 在右下角\n",
    "plt.plot([0,1],[0,1],'r--') # r-- 红色虚线 前面的是指定坐标范围 0到1 0 到1 \n",
    "plt.xlim([0.0,1.0])# xlim 设置横坐标范围\n",
    "plt.ylim([0.0,1.0])\n",
    "plt.ylabel('Recall(tpr)')\n",
    "plt.xlabel('Fall-out')\n",
    "plt.show()"
   ]
  },
  {
   "cell_type": "code",
   "execution_count": 30,
   "metadata": {},
   "outputs": [
    {
     "name": "stdout",
     "output_type": "stream",
     "text": [
      "54 54\n(40787, 55)\n"
     ]
    },
    {
     "data": {
      "text/html": [
       "<div>\n",
       "<style scoped>\n",
       "    .dataframe tbody tr th:only-of-type {\n",
       "        vertical-align: middle;\n",
       "    }\n",
       "\n",
       "    .dataframe tbody tr th {\n",
       "        vertical-align: top;\n",
       "    }\n",
       "\n",
       "    .dataframe thead th {\n",
       "        text-align: right;\n",
       "    }\n",
       "</style>\n",
       "<table border=\"1\" class=\"dataframe\">\n",
       "  <thead>\n",
       "    <tr style=\"text-align: right;\">\n",
       "      <th></th>\n",
       "      <th>columns</th>\n",
       "      <th>coef</th>\n",
       "    </tr>\n",
       "  </thead>\n",
       "  <tbody>\n",
       "    <tr>\n",
       "      <th>0</th>\n",
       "      <td>education</td>\n",
       "      <td>[0.020830916057080803]</td>\n",
       "    </tr>\n",
       "    <tr>\n",
       "      <th>1</th>\n",
       "      <td>duration</td>\n",
       "      <td>[-0.039686333288900304]</td>\n",
       "    </tr>\n",
       "    <tr>\n",
       "      <th>2</th>\n",
       "      <td>campaign</td>\n",
       "      <td>[-1.9303558002788426]</td>\n",
       "    </tr>\n",
       "    <tr>\n",
       "      <th>3</th>\n",
       "      <td>pdays</td>\n",
       "      <td>[0.1991387662305697]</td>\n",
       "    </tr>\n",
       "    <tr>\n",
       "      <th>4</th>\n",
       "      <td>previous</td>\n",
       "      <td>[0.04955034693262366]</td>\n",
       "    </tr>\n",
       "    <tr>\n",
       "      <th>5</th>\n",
       "      <td>emp.var.rate</td>\n",
       "      <td>[0.01663021972748147]</td>\n",
       "    </tr>\n",
       "    <tr>\n",
       "      <th>6</th>\n",
       "      <td>cons.price.idx</td>\n",
       "      <td>[4.461297117664424]</td>\n",
       "    </tr>\n",
       "    <tr>\n",
       "      <th>7</th>\n",
       "      <td>cons.conf.idx</td>\n",
       "      <td>[-2.0096704194704205]</td>\n",
       "    </tr>\n",
       "    <tr>\n",
       "      <th>8</th>\n",
       "      <td>euribor3m</td>\n",
       "      <td>[-0.12782871047822572]</td>\n",
       "    </tr>\n",
       "    <tr>\n",
       "      <th>9</th>\n",
       "      <td>nr.employed</td>\n",
       "      <td>[-1.050124304889652]</td>\n",
       "    </tr>\n",
       "    <tr>\n",
       "      <th>10</th>\n",
       "      <td>y</td>\n",
       "      <td>[-0.9711167829051613]</td>\n",
       "    </tr>\n",
       "    <tr>\n",
       "      <th>11</th>\n",
       "      <td>job_admin.</td>\n",
       "      <td>[-0.09120675934402385]</td>\n",
       "    </tr>\n",
       "    <tr>\n",
       "      <th>12</th>\n",
       "      <td>job_blue-collar</td>\n",
       "      <td>[0.2683904669773117]</td>\n",
       "    </tr>\n",
       "    <tr>\n",
       "      <th>13</th>\n",
       "      <td>job_entrepreneur</td>\n",
       "      <td>[0.5925747499415761]</td>\n",
       "    </tr>\n",
       "    <tr>\n",
       "      <th>14</th>\n",
       "      <td>job_housemaid</td>\n",
       "      <td>[-0.029739882671578368]</td>\n",
       "    </tr>\n",
       "    <tr>\n",
       "      <th>15</th>\n",
       "      <td>job_management</td>\n",
       "      <td>[0.08528556721682364]</td>\n",
       "    </tr>\n",
       "    <tr>\n",
       "      <th>16</th>\n",
       "      <td>job_retired</td>\n",
       "      <td>[-0.5228853692428408]</td>\n",
       "    </tr>\n",
       "    <tr>\n",
       "      <th>17</th>\n",
       "      <td>job_self-employed</td>\n",
       "      <td>[0.17557217245926715]</td>\n",
       "    </tr>\n",
       "    <tr>\n",
       "      <th>18</th>\n",
       "      <td>job_services</td>\n",
       "      <td>[0.35378481763854736]</td>\n",
       "    </tr>\n",
       "    <tr>\n",
       "      <th>19</th>\n",
       "      <td>job_student</td>\n",
       "      <td>[-0.2542273396766793]</td>\n",
       "    </tr>\n",
       "    <tr>\n",
       "      <th>20</th>\n",
       "      <td>job_technician</td>\n",
       "      <td>[-0.04160675380818775]</td>\n",
       "    </tr>\n",
       "    <tr>\n",
       "      <th>21</th>\n",
       "      <td>job_unemployed</td>\n",
       "      <td>[0.0471947693632292]</td>\n",
       "    </tr>\n",
       "    <tr>\n",
       "      <th>22</th>\n",
       "      <td>marital_divorced</td>\n",
       "      <td>[0.33725901742386627]</td>\n",
       "    </tr>\n",
       "    <tr>\n",
       "      <th>23</th>\n",
       "      <td>marital_married</td>\n",
       "      <td>[0.1444341297426219]</td>\n",
       "    </tr>\n",
       "    <tr>\n",
       "      <th>24</th>\n",
       "      <td>marital_single</td>\n",
       "      <td>[0.1014432907363358]</td>\n",
       "    </tr>\n",
       "    <tr>\n",
       "      <th>25</th>\n",
       "      <td>default_no</td>\n",
       "      <td>[-0.40099499200010696]</td>\n",
       "    </tr>\n",
       "    <tr>\n",
       "      <th>26</th>\n",
       "      <td>default_unknown</td>\n",
       "      <td>[0.2014646231927092]</td>\n",
       "    </tr>\n",
       "    <tr>\n",
       "      <th>27</th>\n",
       "      <td>default_yes</td>\n",
       "      <td>[0.7826668084786506]</td>\n",
       "    </tr>\n",
       "    <tr>\n",
       "      <th>28</th>\n",
       "      <td>housing_no</td>\n",
       "      <td>[0.1840887507201179]</td>\n",
       "    </tr>\n",
       "    <tr>\n",
       "      <th>29</th>\n",
       "      <td>housing_unknown</td>\n",
       "      <td>[0.35951216550976295]</td>\n",
       "    </tr>\n",
       "    <tr>\n",
       "      <th>30</th>\n",
       "      <td>housing_yes</td>\n",
       "      <td>[0.039535522765541634]</td>\n",
       "    </tr>\n",
       "    <tr>\n",
       "      <th>31</th>\n",
       "      <td>loan_no</td>\n",
       "      <td>[-0.041695338801058975]</td>\n",
       "    </tr>\n",
       "    <tr>\n",
       "      <th>32</th>\n",
       "      <td>loan_unknown</td>\n",
       "      <td>[0.35951216550976295]</td>\n",
       "    </tr>\n",
       "    <tr>\n",
       "      <th>33</th>\n",
       "      <td>loan_yes</td>\n",
       "      <td>[0.2653196128661504]</td>\n",
       "    </tr>\n",
       "    <tr>\n",
       "      <th>34</th>\n",
       "      <td>contact_cellular</td>\n",
       "      <td>[-0.16882973018408975]</td>\n",
       "    </tr>\n",
       "    <tr>\n",
       "      <th>35</th>\n",
       "      <td>contact_telephone</td>\n",
       "      <td>[0.7519661708428723]</td>\n",
       "    </tr>\n",
       "    <tr>\n",
       "      <th>36</th>\n",
       "      <td>month_apr</td>\n",
       "      <td>[0.06019144678901333]</td>\n",
       "    </tr>\n",
       "    <tr>\n",
       "      <th>37</th>\n",
       "      <td>month_aug</td>\n",
       "      <td>[-0.9038090075309944]</td>\n",
       "    </tr>\n",
       "    <tr>\n",
       "      <th>38</th>\n",
       "      <td>month_dec</td>\n",
       "      <td>[0.24643648130179038]</td>\n",
       "    </tr>\n",
       "    <tr>\n",
       "      <th>39</th>\n",
       "      <td>month_jul</td>\n",
       "      <td>[0.45485294840421786]</td>\n",
       "    </tr>\n",
       "    <tr>\n",
       "      <th>40</th>\n",
       "      <td>month_jun</td>\n",
       "      <td>[1.5237865184139594]</td>\n",
       "    </tr>\n",
       "    <tr>\n",
       "      <th>41</th>\n",
       "      <td>month_mar</td>\n",
       "      <td>[-2.422811436385625]</td>\n",
       "    </tr>\n",
       "    <tr>\n",
       "      <th>42</th>\n",
       "      <td>month_may</td>\n",
       "      <td>[0.9913172226243081]</td>\n",
       "    </tr>\n",
       "    <tr>\n",
       "      <th>43</th>\n",
       "      <td>month_nov</td>\n",
       "      <td>[1.1252051015556064]</td>\n",
       "    </tr>\n",
       "    <tr>\n",
       "      <th>44</th>\n",
       "      <td>month_oct</td>\n",
       "      <td>[-0.05488394529617181]</td>\n",
       "    </tr>\n",
       "    <tr>\n",
       "      <th>45</th>\n",
       "      <td>month_sep</td>\n",
       "      <td>[-0.43714889145810737]</td>\n",
       "    </tr>\n",
       "    <tr>\n",
       "      <th>46</th>\n",
       "      <td>day_of_week_fri</td>\n",
       "      <td>[0.17847415084552123]</td>\n",
       "    </tr>\n",
       "    <tr>\n",
       "      <th>47</th>\n",
       "      <td>day_of_week_mon</td>\n",
       "      <td>[0.1619817566933679]</td>\n",
       "    </tr>\n",
       "    <tr>\n",
       "      <th>48</th>\n",
       "      <td>day_of_week_thu</td>\n",
       "      <td>[0.1679855044369764]</td>\n",
       "    </tr>\n",
       "    <tr>\n",
       "      <th>49</th>\n",
       "      <td>day_of_week_tue</td>\n",
       "      <td>[0.09226851015910643]</td>\n",
       "    </tr>\n",
       "    <tr>\n",
       "      <th>50</th>\n",
       "      <td>day_of_week_wed</td>\n",
       "      <td>[-0.017573483230752838]</td>\n",
       "    </tr>\n",
       "    <tr>\n",
       "      <th>51</th>\n",
       "      <td>poutcome_failure</td>\n",
       "      <td>[1.0344096187169076]</td>\n",
       "    </tr>\n",
       "    <tr>\n",
       "      <th>52</th>\n",
       "      <td>poutcome_nonexistent</td>\n",
       "      <td>[0.44303148604115683]</td>\n",
       "    </tr>\n",
       "    <tr>\n",
       "      <th>53</th>\n",
       "      <td>poutcome_success</td>\n",
       "      <td>[-0.894304664691298]</td>\n",
       "    </tr>\n",
       "  </tbody>\n",
       "</table>\n",
       "</div>"
      ],
      "text/plain": [
       "<div>\n",
       "<style scoped>\n",
       "    .dataframe tbody tr th:only-of-type {\n",
       "        vertical-align: middle;\n",
       "    }\n",
       "\n",
       "    .dataframe tbody tr th {\n",
       "        vertical-align: top;\n",
       "    }\n",
       "\n",
       "    .dataframe thead th {\n",
       "        text-align: right;\n",
       "    }\n",
       "</style>\n",
       "<table border=\"1\" class=\"dataframe\">\n",
       "  <thead>\n",
       "    <tr style=\"text-align: right;\">\n",
       "      <th></th>\n",
       "      <th>columns</th>\n",
       "      <th>coef</th>\n",
       "    </tr>\n",
       "  </thead>\n",
       "  <tbody>\n",
       "    <tr>\n",
       "      <th>0</th>\n",
       "      <td>education</td>\n",
       "      <td>[0.020830916057080803]</td>\n",
       "    </tr>\n",
       "    <tr>\n",
       "      <th>1</th>\n",
       "      <td>duration</td>\n",
       "      <td>[-0.039686333288900304]</td>\n",
       "    </tr>\n",
       "    <tr>\n",
       "      <th>2</th>\n",
       "      <td>campaign</td>\n",
       "      <td>[-1.9303558002788426]</td>\n",
       "    </tr>\n",
       "    <tr>\n",
       "      <th>3</th>\n",
       "      <td>pdays</td>\n",
       "      <td>[0.1991387662305697]</td>\n",
       "    </tr>\n",
       "    <tr>\n",
       "      <th>4</th>\n",
       "      <td>previous</td>\n",
       "      <td>[0.04955034693262366]</td>\n",
       "    </tr>\n",
       "    <tr>\n",
       "      <th>5</th>\n",
       "      <td>emp.var.rate</td>\n",
       "      <td>[0.01663021972748147]</td>\n",
       "    </tr>\n",
       "    <tr>\n",
       "      <th>6</th>\n",
       "      <td>cons.price.idx</td>\n",
       "      <td>[4.461297117664424]</td>\n",
       "    </tr>\n",
       "    <tr>\n",
       "      <th>7</th>\n",
       "      <td>cons.conf.idx</td>\n",
       "      <td>[-2.0096704194704205]</td>\n",
       "    </tr>\n",
       "    <tr>\n",
       "      <th>8</th>\n",
       "      <td>euribor3m</td>\n",
       "      <td>[-0.12782871047822572]</td>\n",
       "    </tr>\n",
       "    <tr>\n",
       "      <th>9</th>\n",
       "      <td>nr.employed</td>\n",
       "      <td>[-1.050124304889652]</td>\n",
       "    </tr>\n",
       "    <tr>\n",
       "      <th>10</th>\n",
       "      <td>y</td>\n",
       "      <td>[-0.9711167829051613]</td>\n",
       "    </tr>\n",
       "    <tr>\n",
       "      <th>11</th>\n",
       "      <td>job_admin.</td>\n",
       "      <td>[-0.09120675934402385]</td>\n",
       "    </tr>\n",
       "    <tr>\n",
       "      <th>12</th>\n",
       "      <td>job_blue-collar</td>\n",
       "      <td>[0.2683904669773117]</td>\n",
       "    </tr>\n",
       "    <tr>\n",
       "      <th>13</th>\n",
       "      <td>job_entrepreneur</td>\n",
       "      <td>[0.5925747499415761]</td>\n",
       "    </tr>\n",
       "    <tr>\n",
       "      <th>14</th>\n",
       "      <td>job_housemaid</td>\n",
       "      <td>[-0.029739882671578368]</td>\n",
       "    </tr>\n",
       "    <tr>\n",
       "      <th>15</th>\n",
       "      <td>job_management</td>\n",
       "      <td>[0.08528556721682364]</td>\n",
       "    </tr>\n",
       "    <tr>\n",
       "      <th>16</th>\n",
       "      <td>job_retired</td>\n",
       "      <td>[-0.5228853692428408]</td>\n",
       "    </tr>\n",
       "    <tr>\n",
       "      <th>17</th>\n",
       "      <td>job_self-employed</td>\n",
       "      <td>[0.17557217245926715]</td>\n",
       "    </tr>\n",
       "    <tr>\n",
       "      <th>18</th>\n",
       "      <td>job_services</td>\n",
       "      <td>[0.35378481763854736]</td>\n",
       "    </tr>\n",
       "    <tr>\n",
       "      <th>19</th>\n",
       "      <td>job_student</td>\n",
       "      <td>[-0.2542273396766793]</td>\n",
       "    </tr>\n",
       "    <tr>\n",
       "      <th>20</th>\n",
       "      <td>job_technician</td>\n",
       "      <td>[-0.04160675380818775]</td>\n",
       "    </tr>\n",
       "    <tr>\n",
       "      <th>21</th>\n",
       "      <td>job_unemployed</td>\n",
       "      <td>[0.0471947693632292]</td>\n",
       "    </tr>\n",
       "    <tr>\n",
       "      <th>22</th>\n",
       "      <td>marital_divorced</td>\n",
       "      <td>[0.33725901742386627]</td>\n",
       "    </tr>\n",
       "    <tr>\n",
       "      <th>23</th>\n",
       "      <td>marital_married</td>\n",
       "      <td>[0.1444341297426219]</td>\n",
       "    </tr>\n",
       "    <tr>\n",
       "      <th>24</th>\n",
       "      <td>marital_single</td>\n",
       "      <td>[0.1014432907363358]</td>\n",
       "    </tr>\n",
       "    <tr>\n",
       "      <th>25</th>\n",
       "      <td>default_no</td>\n",
       "      <td>[-0.40099499200010696]</td>\n",
       "    </tr>\n",
       "    <tr>\n",
       "      <th>26</th>\n",
       "      <td>default_unknown</td>\n",
       "      <td>[0.2014646231927092]</td>\n",
       "    </tr>\n",
       "    <tr>\n",
       "      <th>27</th>\n",
       "      <td>default_yes</td>\n",
       "      <td>[0.7826668084786506]</td>\n",
       "    </tr>\n",
       "    <tr>\n",
       "      <th>28</th>\n",
       "      <td>housing_no</td>\n",
       "      <td>[0.1840887507201179]</td>\n",
       "    </tr>\n",
       "    <tr>\n",
       "      <th>29</th>\n",
       "      <td>housing_unknown</td>\n",
       "      <td>[0.35951216550976295]</td>\n",
       "    </tr>\n",
       "    <tr>\n",
       "      <th>30</th>\n",
       "      <td>housing_yes</td>\n",
       "      <td>[0.039535522765541634]</td>\n",
       "    </tr>\n",
       "    <tr>\n",
       "      <th>31</th>\n",
       "      <td>loan_no</td>\n",
       "      <td>[-0.041695338801058975]</td>\n",
       "    </tr>\n",
       "    <tr>\n",
       "      <th>32</th>\n",
       "      <td>loan_unknown</td>\n",
       "      <td>[0.35951216550976295]</td>\n",
       "    </tr>\n",
       "    <tr>\n",
       "      <th>33</th>\n",
       "      <td>loan_yes</td>\n",
       "      <td>[0.2653196128661504]</td>\n",
       "    </tr>\n",
       "    <tr>\n",
       "      <th>34</th>\n",
       "      <td>contact_cellular</td>\n",
       "      <td>[-0.16882973018408975]</td>\n",
       "    </tr>\n",
       "    <tr>\n",
       "      <th>35</th>\n",
       "      <td>contact_telephone</td>\n",
       "      <td>[0.7519661708428723]</td>\n",
       "    </tr>\n",
       "    <tr>\n",
       "      <th>36</th>\n",
       "      <td>month_apr</td>\n",
       "      <td>[0.06019144678901333]</td>\n",
       "    </tr>\n",
       "    <tr>\n",
       "      <th>37</th>\n",
       "      <td>month_aug</td>\n",
       "      <td>[-0.9038090075309944]</td>\n",
       "    </tr>\n",
       "    <tr>\n",
       "      <th>38</th>\n",
       "      <td>month_dec</td>\n",
       "      <td>[0.24643648130179038]</td>\n",
       "    </tr>\n",
       "    <tr>\n",
       "      <th>39</th>\n",
       "      <td>month_jul</td>\n",
       "      <td>[0.45485294840421786]</td>\n",
       "    </tr>\n",
       "    <tr>\n",
       "      <th>40</th>\n",
       "      <td>month_jun</td>\n",
       "      <td>[1.5237865184139594]</td>\n",
       "    </tr>\n",
       "    <tr>\n",
       "      <th>41</th>\n",
       "      <td>month_mar</td>\n",
       "      <td>[-2.422811436385625]</td>\n",
       "    </tr>\n",
       "    <tr>\n",
       "      <th>42</th>\n",
       "      <td>month_may</td>\n",
       "      <td>[0.9913172226243081]</td>\n",
       "    </tr>\n",
       "    <tr>\n",
       "      <th>43</th>\n",
       "      <td>month_nov</td>\n",
       "      <td>[1.1252051015556064]</td>\n",
       "    </tr>\n",
       "    <tr>\n",
       "      <th>44</th>\n",
       "      <td>month_oct</td>\n",
       "      <td>[-0.05488394529617181]</td>\n",
       "    </tr>\n",
       "    <tr>\n",
       "      <th>45</th>\n",
       "      <td>month_sep</td>\n",
       "      <td>[-0.43714889145810737]</td>\n",
       "    </tr>\n",
       "    <tr>\n",
       "      <th>46</th>\n",
       "      <td>day_of_week_fri</td>\n",
       "      <td>[0.17847415084552123]</td>\n",
       "    </tr>\n",
       "    <tr>\n",
       "      <th>47</th>\n",
       "      <td>day_of_week_mon</td>\n",
       "      <td>[0.1619817566933679]</td>\n",
       "    </tr>\n",
       "    <tr>\n",
       "      <th>48</th>\n",
       "      <td>day_of_week_thu</td>\n",
       "      <td>[0.1679855044369764]</td>\n",
       "    </tr>\n",
       "    <tr>\n",
       "      <th>49</th>\n",
       "      <td>day_of_week_tue</td>\n",
       "      <td>[0.09226851015910643]</td>\n",
       "    </tr>\n",
       "    <tr>\n",
       "      <th>50</th>\n",
       "      <td>day_of_week_wed</td>\n",
       "      <td>[-0.017573483230752838]</td>\n",
       "    </tr>\n",
       "    <tr>\n",
       "      <th>51</th>\n",
       "      <td>poutcome_failure</td>\n",
       "      <td>[1.0344096187169076]</td>\n",
       "    </tr>\n",
       "    <tr>\n",
       "      <th>52</th>\n",
       "      <td>poutcome_nonexistent</td>\n",
       "      <td>[0.44303148604115683]</td>\n",
       "    </tr>\n",
       "    <tr>\n",
       "      <th>53</th>\n",
       "      <td>poutcome_success</td>\n",
       "      <td>[-0.894304664691298]</td>\n",
       "    </tr>\n",
       "  </tbody>\n",
       "</table>\n",
       "</div>"
      ]
     },
     "execution_count": 30,
     "metadata": {},
     "output_type": "execute_result"
    }
   ],
   "source": [
    "# 查看相关系数\n",
    "print(len(list(data.columns)[1:]),len(list(lr.coef_.T)))\n",
    "print(data.shape)\n",
    "pd.DataFrame({\"columns\":list(data.columns)[1:],\"coef\":list(lr.coef_.T)})\n",
    "\n"
   ]
  },
  {
   "cell_type": "markdown",
   "metadata": {},
   "source": [
    "# 其他模型调参\n",
    "\n",
    " 1. SVM\n",
    "\n",
    "    gamma: 控制高斯核的宽度，决定了点与点之间'靠近'是指多大的距离。\n",
    "    C:正则化参数\n",
    " 2. Decision Tree\n",
    "    \n",
    "    决策树可以采用 预剪枝和后剪枝来防止过拟合\n",
    "    sklearn 中只实现了预剪枝\n",
    "    预剪枝限制条件包括：\n",
    "    限制树的最大深度\n",
    "    限制叶节点的最大数目\n",
    "    规定一个节点中数据点的最小数目防止继续划分\n",
    " 3. Random Forest\n",
    "\n",
    "    n_estimators:  该参数越大越好\n",
    "    max_features: 决定每棵树的随机性大小，较小可以降低过拟合，一般使用默认值\n",
    "    预剪枝选项：如max_depth 等"
   ]
  },
  {
   "cell_type": "markdown",
   "metadata": {},
   "source": [
    "# RF \n",
    "随机森林"
   ]
  },
  {
   "cell_type": "code",
   "execution_count": 16,
   "metadata": {},
   "outputs": [
    {
     "name": "stderr",
     "output_type": "stream",
     "text": [
      "/Users/crq/anaconda3/lib/python3.6/site-packages/sklearn/ensemble/weight_boosting.py:29: DeprecationWarning: numpy.core.umath_tests is an internal NumPy module and should not be imported. It will be removed in a future NumPy release.\n  from numpy.core.umath_tests import inner1d\n"
     ]
    },
    {
     "name": "stdout",
     "output_type": "stream",
     "text": [
      "It took 132 seconds to train the model\n\n"
     ]
    },
    {
     "name": "stderr",
     "output_type": "stream",
     "text": [
      "/Users/crq/anaconda3/lib/python3.6/site-packages/sklearn/model_selection/_search.py:762: DeprecationWarning: The grid_scores_ attribute was deprecated in version 0.18 in favor of the more elaborate cv_results_ attribute. The grid_scores_ attribute will not be available from 0.20\n  DeprecationWarning)\n"
     ]
    },
    {
     "data": {
      "text/plain": [
       "([mean: 0.94760, std: 0.03035, params: {'min_samples_split': 3, 'n_estimators': 10},\n  mean: 0.95058, std: 0.03517, params: {'min_samples_split': 3, 'n_estimators': 50},\n  mean: 0.95172, std: 0.03421, params: {'min_samples_split': 3, 'n_estimators': 100},\n  mean: 0.94681, std: 0.03108, params: {'min_samples_split': 6, 'n_estimators': 10},\n  mean: 0.94860, std: 0.03532, params: {'min_samples_split': 6, 'n_estimators': 50},\n  mean: 0.94955, std: 0.03377, params: {'min_samples_split': 6, 'n_estimators': 100},\n  mean: 0.94278, std: 0.03301, params: {'min_samples_split': 9, 'n_estimators': 10},\n  mean: 0.94752, std: 0.03238, params: {'min_samples_split': 9, 'n_estimators': 50},\n  mean: 0.94809, std: 0.03142, params: {'min_samples_split': 9, 'n_estimators': 100}],\n {'min_samples_split': 3, 'n_estimators': 100},\n 0.951723729415946)"
      ]
     },
     "execution_count": 16,
     "metadata": {},
     "output_type": "execute_result"
    }
   ],
   "source": [
    "from sklearn.ensemble import RandomForestClassifier\n",
    "from sklearn.model_selection import GridSearchCV\n",
    "\n",
    "params={'min_samples_split':[3,6,9],'n_estimators':[10,50,100]}\n",
    "grid=GridSearchCV(RandomForestClassifier(),param_grid=params,cv=5)\n",
    "start_time=time.time()\n",
    "grid.fit(x_data,y_data)\n",
    "end_time=time.time()\n",
    "\n",
    "print(\"It took %d seconds to train the model\"%(end_time-start_time))\n",
    "print()\n",
    "\n",
    "# 打印 得分值 最好参数 最好分数\n",
    "grid.grid_scores_,grid.best_params_,grid.best_score_\n"
   ]
  },
  {
   "cell_type": "markdown",
   "metadata": {},
   "source": [
    "## 基于y衡量  和y最相关的10个特征\n",
    "\n",
    "使用selectKBest 方法\n",
    "\n",
    "这里仅仅做用法演示  实际的话 应该将所有的sex归为一类等 去查看相关系数的分布 上面基于lr模型的重要性查看同理"
   ]
  },
  {
   "cell_type": "code",
   "execution_count": 8,
   "metadata": {
    "collapsed": false
   },
   "outputs": [
    {
     "name": "stderr",
     "output_type": "stream",
     "text": [
      "/Users/crq/anaconda3/lib/python3.6/site-packages/ipykernel_launcher.py:8: RuntimeWarning: divide by zero encountered in log10\n  \n"
     ]
    },
    {
     "data": {
      "image/png": "[encoded data removed]",
      "text/plain": [
       "<Figure size 3600x360 with 1 Axes>"
      ]
     },
     "metadata": {},
     "output_type": "display_data"
    }
   ],
   "source": [
    "from sklearn.feature_selection import SelectKBest,f_classif\n",
    "temp=data.drop('y',axis=1)\n",
    "preditors=temp.columns.values\n",
    "\n",
    "selector=SelectKBest(f_classif,5)\n",
    "selector.fit(data[preditors],data['y'])\n",
    "\n",
    "scores=-np.log10(selector.pvalues_)\n",
    "\n",
    "# plot\n",
    "plt.figure(figsize=(50,5))\n",
    "plt.bar(range(len(preditors)),scores)\n",
    "plt.xticks(range(len(preditors)),preditors,rotation='vertical')\n",
    "\n",
    "plt.show()"
   ]
  },
  {
   "cell_type": "markdown",
   "metadata": {},
   "source": [
    "## 模型融合 集成算法\n",
    "分类问题：voting\n",
    "回归问题：average\n",
    "简单使用模型结果的voting 进行模型融合\n",
    "\n",
    "对于更高级的 可以调用sklearn 中所提供的stacking库"
   ]
  },
  {
   "cell_type": "code",
   "execution_count": null,
   "metadata": {},
   "outputs": [],
   "source": [
    "from sklearn.ensemble import GradientBoostingClassifier\n",
    "from sklearn.svm import LinearSVC\n",
    "\n",
    "algorithms=[\n",
    "    GradientBoostingClassifier(random_state=0,n_estimators=25,max_depth=3),\n",
    "    LogisticRegression(random_state=0),\n",
    "    LinearSVC(random_state=0)\n",
    "    \n",
    "]\n",
    "for model in algorithms:\n",
    "    model.fit(x_data,y_data)\n",
    "    y_pred=model.predict(x_test)"
   ]
  }
 ],
 "metadata": {
  "kernelspec": {
   "display_name": "Python 2",
   "language": "python",
   "name": "python2"
  },
  "language_info": {
   "codemirror_mode": {
    "name": "ipython",
    "version": 2
   },
   "file_extension": ".py",
   "mimetype": "text/x-python",
   "name": "python",
   "nbconvert_exporter": "python",
   "pygments_lexer": "ipython2",
   "version": "2.7.6"
  }
 },
 "nbformat": 4,
 "nbformat_minor": 0
}
